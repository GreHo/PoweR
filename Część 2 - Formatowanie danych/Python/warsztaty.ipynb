{
 "cells": [
  {
   "cell_type": "markdown",
   "metadata": {},
   "source": [
    "# 0. przypomnienie z poprzednich warsztatów - obsługa jupyter notebook   \n",
    "**edycja - podświetlenie zielone**   \n",
    "`shift`+`enter` - wywołanie komórki i przejście do kolejnej (stworzenie kolejnej)    \n",
    "`ctrl`+`enter` - wywołanie komórki   \n",
    "\n",
    "**wybór - podświetlenie niebieskie**    \n",
    "`A` - stworzenie komórki nad obecną komórką (Above)       \n",
    "`B` - stworzenie komórki pod obecną komórką (Below)    \n",
    "`D`+`D` - usunięcie podświetlonej komórki\n",
    "\n",
    "**gdy nie wiemy jak działa dana funkcja w bibliotece**    \n",
    "`shift`+`tab` - wyświetlenie dokumentacji (DocString)"
   ]
  },
  {
   "cell_type": "markdown",
   "metadata": {},
   "source": [
    "## Forma Warsztatów\n",
    "* Blok numpy 50 minut\n",
    "* Zadania + Przerwa\n",
    "* Blok pandas 50 minut\n",
    "\n",
    "Każdy blok ma w środku 5 minutowe zadanko i jest zakończony 2 zadaniami których zrobienie powinno zająć max 10 minut. "
   ]
  },
  {
   "cell_type": "code",
   "execution_count": null,
   "metadata": {},
   "outputs": [],
   "source": [
    "import numpy as np "
   ]
  },
  {
   "cell_type": "markdown",
   "metadata": {},
   "source": [
    "# 1. Wprowadzenie do Numpy \n",
    "**Numpy** - **Num**erical **py**thon jest to jedna z najważniejszych bibliotek do obliczeń numerycznych w pythonie. Używamy jej bo :    \n",
    "1. jest szybka\n",
    "2. jest lekka\n",
    "3. jest wygodna"
   ]
  },
  {
   "cell_type": "markdown",
   "metadata": {},
   "source": [
    "## 1.1 Pokażemy teraz szybkość Numpy"
   ]
  },
  {
   "cell_type": "code",
   "execution_count": null,
   "metadata": {},
   "outputs": [],
   "source": [
    "import time\n",
    "import sys"
   ]
  },
  {
   "cell_type": "code",
   "execution_count": null,
   "metadata": {},
   "outputs": [],
   "source": [
    "python_array = [i for i in range(1000000)] # milion elementów od 0 do 999999\n",
    "numpy_array  = np.arange(1000000)"
   ]
  },
  {
   "cell_type": "code",
   "execution_count": null,
   "metadata": {},
   "outputs": [],
   "source": [
    "# obliczmy średnią z list\n",
    "# python\n",
    "sum_of_elements = 0 \n",
    "start1 = time.time()\n",
    "\n",
    "for element in python_array :\n",
    "    sum_of_elements += element \n",
    "    \n",
    "mean_python = sum_of_elements/len(python_array)\n",
    "\n",
    "end1 = time.time()"
   ]
  },
  {
   "cell_type": "code",
   "execution_count": null,
   "metadata": {},
   "outputs": [],
   "source": [
    "# numpy \n",
    "start2 = time.time()\n",
    "\n",
    "mean_numpy =  numpy_array.mean()\n",
    "\n",
    "end2 = time.time()"
   ]
  },
  {
   "cell_type": "code",
   "execution_count": null,
   "metadata": {},
   "outputs": [],
   "source": [
    "# porównanie\n",
    "time_python = end1 - start1\n",
    "time_numpy  = end2 - start2\n",
    "print(f'Średnie wynoszą odpowiednio {mean_python} i {mean_numpy}, obliczenia zajęły odpowiednio {round(time_python,4)} i {round(time_numpy,4)} sekund. \\n')\n",
    "print(f'W tych obliczeniach Numpy był {round(time_python/time_numpy)} razy szybszy. Przyjmuje się, że w zależności od obliczeń numpy jest od 10 do 100 razy szybszy')"
   ]
  },
  {
   "cell_type": "markdown",
   "metadata": {},
   "source": [
    "## 1.2 Pokażemy, że obiekty w Numpy zajmują mniej miejsca"
   ]
  },
  {
   "cell_type": "markdown",
   "metadata": {},
   "source": [
    "Numpy korzysta z dobrze zaimplementowanego (w C) zarządzania pamięcią. Dodatkowo każda lista ma jeden typ danych, w przeciwieństwie do pythona, w którym każdy element może być innego typu. "
   ]
  },
  {
   "cell_type": "code",
   "execution_count": null,
   "metadata": {},
   "outputs": [],
   "source": [
    "numpy_array = numpy_array.astype('int32') # domyślnie może się różnić "
   ]
  },
  {
   "cell_type": "code",
   "execution_count": null,
   "metadata": {},
   "outputs": [],
   "source": [
    "print(f'python \"waży\" {sys.getsizeof(python_array)/(1048576)} MB')\n",
    "print(f'numpy  \"waży\" {sys.getsizeof(numpy_array)/(1048576)} MB')"
   ]
  },
  {
   "cell_type": "markdown",
   "metadata": {},
   "source": [
    "## 1.3 Wygodę postaramy się udowodnić w ciągu tego warsztatu! "
   ]
  },
  {
   "cell_type": "markdown",
   "metadata": {},
   "source": [
    "# 2. Podstawy "
   ]
  },
  {
   "cell_type": "code",
   "execution_count": null,
   "metadata": {},
   "outputs": [],
   "source": [
    "import numpy as np"
   ]
  },
  {
   "cell_type": "markdown",
   "metadata": {},
   "source": [
    "## 2.1 Typy danych w listach numpy"
   ]
  },
  {
   "cell_type": "code",
   "execution_count": null,
   "metadata": {},
   "outputs": [],
   "source": [
    "# listę w pythonie tworzymy np tak: \n",
    "[1,2,3,4,5]"
   ]
  },
  {
   "cell_type": "code",
   "execution_count": null,
   "metadata": {},
   "outputs": [],
   "source": [
    "# stwórzmy array listę z listy pythonowej\n",
    "np.array([1,2,3,4,5])"
   ]
  },
  {
   "cell_type": "code",
   "execution_count": null,
   "metadata": {},
   "outputs": [],
   "source": [
    "a = np.array([1,2,3,4,5])\n",
    "a"
   ]
  },
  {
   "cell_type": "code",
   "execution_count": null,
   "metadata": {},
   "outputs": [],
   "source": [
    "type(a)"
   ]
  },
  {
   "cell_type": "code",
   "execution_count": null,
   "metadata": {},
   "outputs": [],
   "source": [
    "# typ listy zależny od tego co wrzucimy do listy pythonowej\n",
    "a.dtype"
   ]
  },
  {
   "cell_type": "markdown",
   "metadata": {},
   "source": [
    "`dtype` - typ skalarów w liście. Jedna lista może mieć jeden skalar"
   ]
  },
  {
   "cell_type": "code",
   "execution_count": null,
   "metadata": {},
   "outputs": [],
   "source": [
    "# możemy inicjować array listy z wyznaczonym przez nas typem\n",
    "np.array([1,2,3,4,5], dtype = \"float32\")"
   ]
  },
  {
   "cell_type": "code",
   "execution_count": null,
   "metadata": {},
   "outputs": [],
   "source": [
    "np.array([1,2,3,4,5], dtype = \"str\")  # zwraca unicode"
   ]
  },
  {
   "cell_type": "markdown",
   "metadata": {},
   "source": [
    "### Hierarchia dtype"
   ]
  },
  {
   "cell_type": "code",
   "execution_count": null,
   "metadata": {},
   "outputs": [],
   "source": [
    "# co się stanie jak floaty znajdą się w liście intów?\n",
    "np.array([1,2,3.14,2.91313213213], dtype = \"int64\")"
   ]
  },
  {
   "cell_type": "code",
   "execution_count": null,
   "metadata": {},
   "outputs": [],
   "source": [
    "# a co jeśli w liście znajdzie się string (napis)? \n",
    "np.array([1,2,3,\"jeleń\"])"
   ]
  },
  {
   "cell_type": "code",
   "execution_count": null,
   "metadata": {},
   "outputs": [],
   "source": [
    "# a co jeśli zmienimy dtype listy na int?\n",
    "np.array([1,2,3,\"jeleń\"], dtype = \"int64\")"
   ]
  },
  {
   "cell_type": "markdown",
   "metadata": {},
   "source": [
    "## 2.2 tworzenie list w numpy"
   ]
  },
  {
   "cell_type": "markdown",
   "metadata": {},
   "source": [
    "Możemy też korzystać z wbudowanych \"generatorów\" list, czyli metod obiektu np. \n",
    "Tworzenie takich list jest podobne co wyrażeń listotwórczych za pomocą `[for i in range(...)]` w pythonie. \n",
    "Bardzo bliska w działaniu jest metoda `arange`"
   ]
  },
  {
   "cell_type": "code",
   "execution_count": null,
   "metadata": {},
   "outputs": [],
   "source": [
    "[i for i in range(5)]"
   ]
  },
  {
   "cell_type": "code",
   "execution_count": null,
   "metadata": {},
   "outputs": [],
   "source": [
    "np.arange(5) # shift + tab daje nam docstringa"
   ]
  },
  {
   "cell_type": "code",
   "execution_count": null,
   "metadata": {},
   "outputs": [],
   "source": [
    "# co zwróci? \n",
    "[i for i in range(3,10,2)]"
   ]
  },
  {
   "cell_type": "code",
   "execution_count": null,
   "metadata": {},
   "outputs": [],
   "source": [
    "np.arange(3,10,2)"
   ]
  },
  {
   "cell_type": "code",
   "execution_count": null,
   "metadata": {},
   "outputs": [],
   "source": [
    "# możemy też tworzyć specyficzne, bardzo często przydatne listy \n",
    "np.zeros(10)   # tworzy 10 zer"
   ]
  },
  {
   "cell_type": "code",
   "execution_count": null,
   "metadata": {},
   "outputs": [],
   "source": [
    "np.ones(10)"
   ]
  },
  {
   "cell_type": "code",
   "execution_count": null,
   "metadata": {},
   "outputs": [],
   "source": [
    "# ważne! repeat - często przydatne a nierozumiane\n",
    "np.repeat(3,5)"
   ]
  },
  {
   "cell_type": "code",
   "execution_count": null,
   "metadata": {},
   "outputs": [],
   "source": [
    "np.repeat([3,4], 4)  # jak to rozumieć? "
   ]
  },
  {
   "cell_type": "code",
   "execution_count": null,
   "metadata": {},
   "outputs": [],
   "source": [
    "np.array([3,4]).repeat(2).repeat(2)"
   ]
  },
  {
   "cell_type": "code",
   "execution_count": null,
   "metadata": {},
   "outputs": [],
   "source": [
    "np.array([3,4]).repeat([1,3])"
   ]
  },
  {
   "cell_type": "code",
   "execution_count": null,
   "metadata": {},
   "outputs": [],
   "source": [
    "# bardziej intuicyjne\n",
    "np.tile([3,4],3)"
   ]
  },
  {
   "cell_type": "markdown",
   "metadata": {},
   "source": [
    "## 2.3 ndarray - wielowymiarowość\n",
    "\n",
    "W Numpy jednym z najważniejszych obiektów jest `ndarray`. Jest to wielowymiarowa lista o jednym typie danych (skalarów). "
   ]
  },
  {
   "cell_type": "code",
   "execution_count": null,
   "metadata": {},
   "outputs": [],
   "source": [
    "type(np.ones(10))"
   ]
  },
  {
   "cell_type": "markdown",
   "metadata": {},
   "source": [
    "Wszystkie nasze poprzednie przykłady były dla list jednowymiarowych, teraz zobaczymy jak się operuje na listach w wielu wymiarach"
   ]
  },
  {
   "cell_type": "code",
   "execution_count": null,
   "metadata": {},
   "outputs": [],
   "source": [
    "a = [[1,2,3],\n",
    "     [1,2,3]]\n",
    "\n",
    "b = np.array(a)\n",
    "b"
   ]
  },
  {
   "cell_type": "code",
   "execution_count": null,
   "metadata": {},
   "outputs": [],
   "source": [
    "# wymiar\n",
    "b.ndim"
   ]
  },
  {
   "cell_type": "code",
   "execution_count": null,
   "metadata": {},
   "outputs": [],
   "source": [
    "# kształt - ile wierszy, kolumn\n",
    "b.shape"
   ]
  },
  {
   "cell_type": "code",
   "execution_count": null,
   "metadata": {},
   "outputs": [],
   "source": [
    "# możemy zmieniać kształt\n",
    "c = np.ones(24, dtype = \"int32\")\n",
    "c"
   ]
  },
  {
   "cell_type": "code",
   "execution_count": null,
   "metadata": {},
   "outputs": [],
   "source": [
    "c.shape"
   ]
  },
  {
   "cell_type": "code",
   "execution_count": null,
   "metadata": {},
   "outputs": [],
   "source": [
    "# możemy zmienić kształt naszej listy\n",
    "c.reshape(24,1)"
   ]
  },
  {
   "cell_type": "code",
   "execution_count": null,
   "metadata": {},
   "outputs": [],
   "source": [
    "c.reshape(4,6)"
   ]
  },
  {
   "cell_type": "markdown",
   "metadata": {},
   "source": [
    "**Uwaga!** możemy wykonywać reshape, dopóki nasz shape pomieści dokładnie tyle danych ile ma elementów pierwotna lista."
   ]
  },
  {
   "cell_type": "code",
   "execution_count": null,
   "metadata": {},
   "outputs": [],
   "source": [
    "# W tym przypadku shape to dzielniki 24, które pomnożone przez siebie dają 24, czyli ilość naszych elementów\n",
    "c = c.reshape(8,3)\n",
    "c"
   ]
  },
  {
   "cell_type": "code",
   "execution_count": null,
   "metadata": {},
   "outputs": [],
   "source": [
    "# gdy nie spełnimy tego warunku : \n",
    "c.reshape(4,5)"
   ]
  },
  {
   "cell_type": "code",
   "execution_count": null,
   "metadata": {},
   "outputs": [],
   "source": [
    "# wszystko do 1 wymiaru\n",
    "d = c.flatten()\n",
    "d   "
   ]
  },
  {
   "cell_type": "code",
   "execution_count": null,
   "metadata": {},
   "outputs": [],
   "source": [
    "# na 3 wymiarach się nie kończy, możemy iść coraz wyżej pamiętając o powyższej zasadzie\n",
    "d.reshape(4,3,2) # lista mająca 4 listy, które mają 3 listy po 2 elementy"
   ]
  },
  {
   "cell_type": "code",
   "execution_count": null,
   "metadata": {},
   "outputs": [],
   "source": [
    "d.reshape(2,3,2,2) # lista mająca 2 listy, która ma jako elementy 2 listy, które mają 3 listy, które mają 2 elementy (skalary)"
   ]
  },
  {
   "cell_type": "markdown",
   "metadata": {},
   "source": [
    "### Kształt a oś"
   ]
  },
  {
   "cell_type": "markdown",
   "metadata": {},
   "source": [
    "![Shapes](img/numpy_array_t.png)"
   ]
  },
  {
   "cell_type": "markdown",
   "metadata": {},
   "source": [
    "Bardzo ważny obrazek, należy z niego zapamiętać nie tylko jak działają kształty, ale również osie (**axis**). Będziemy z tego korzystać!"
   ]
  },
  {
   "cell_type": "markdown",
   "metadata": {},
   "source": [
    "## 2.4 Indeksowanie\n",
    "\n",
    "Przypuśćmy, że mamy listę n wymiarową a. Aby dostać się do naszych danych będziemy indeksować w ten sposób:    \n",
    "`x[exp1, exp2]` - gdzie exp1,exp2 to slice typu `start:stop:step`, które odpowiadają odpowiednim wymiarom."
   ]
  },
  {
   "cell_type": "code",
   "execution_count": null,
   "metadata": {},
   "outputs": [],
   "source": [
    "# weźmy array lista \n",
    "a = np.arange(20).reshape(4,5)\n",
    "a"
   ]
  },
  {
   "cell_type": "code",
   "execution_count": null,
   "metadata": {},
   "outputs": [],
   "source": [
    "# co tu dostaniemy? \n",
    "a[2]"
   ]
  },
  {
   "cell_type": "code",
   "execution_count": null,
   "metadata": {},
   "outputs": [],
   "source": [
    "a[1:3]"
   ]
  },
  {
   "cell_type": "code",
   "execution_count": null,
   "metadata": {},
   "outputs": [],
   "source": [
    "a[1:3,2:4]"
   ]
  },
  {
   "cell_type": "code",
   "execution_count": null,
   "metadata": {},
   "outputs": [],
   "source": [
    "a[:,1:5]"
   ]
  },
  {
   "cell_type": "code",
   "execution_count": null,
   "metadata": {},
   "outputs": [],
   "source": [
    "# możemy też indeksować logicznie\n",
    "a > 10 "
   ]
  },
  {
   "cell_type": "code",
   "execution_count": null,
   "metadata": {},
   "outputs": [],
   "source": [
    "a[a>10]"
   ]
  },
  {
   "cell_type": "code",
   "execution_count": null,
   "metadata": {},
   "outputs": [],
   "source": [
    "# co teraz dostaniemy? \n",
    "(a>3) and (a<10)         "
   ]
  },
  {
   "cell_type": "code",
   "execution_count": null,
   "metadata": {},
   "outputs": [],
   "source": [
    "a>3 & a<10 "
   ]
  },
  {
   "cell_type": "code",
   "execution_count": null,
   "metadata": {},
   "outputs": [],
   "source": [
    "# co musimy zrobić \n",
    "(a>3) & (a<10)      # nie zadziała pythonowy and oraz or, zamienimy je na & oraz |\n",
    "                    # nawiasy są kluczowe\n",
    "                    # "
   ]
  },
  {
   "cell_type": "code",
   "execution_count": null,
   "metadata": {},
   "outputs": [],
   "source": [
    "# A co teraz?\n",
    "a[(a>3)&(a<10)]"
   ]
  },
  {
   "cell_type": "code",
   "execution_count": null,
   "metadata": {},
   "outputs": [],
   "source": [
    "a[(a>18)|(a<3)]"
   ]
  },
  {
   "cell_type": "code",
   "execution_count": null,
   "metadata": {},
   "outputs": [],
   "source": [
    "# jeszcze raz dla przypomnienia\n",
    "a"
   ]
  },
  {
   "cell_type": "code",
   "execution_count": null,
   "metadata": {},
   "outputs": [],
   "source": [
    "# znajdowanie indeksów\n",
    "index_array = np.where((a > 3) & (a < 10))\n",
    "index_array "
   ]
  },
  {
   "cell_type": "code",
   "execution_count": null,
   "metadata": {},
   "outputs": [],
   "source": [
    "a[index_array]"
   ]
  },
  {
   "cell_type": "code",
   "execution_count": null,
   "metadata": {},
   "outputs": [],
   "source": []
  },
  {
   "cell_type": "markdown",
   "metadata": {},
   "source": [
    "## 2.5 Zadanie (*)   (5 min)\n",
    "\n",
    "1) Stwórz macierz A taką, że:   \n",
    "\n",
    "A = $\\begin{bmatrix}\n",
    "1 & 2 & 3 & 4 & 5\\\\\n",
    "6 & 7 & 8 & 9 & 10\\\\\n",
    "11 & 12 & 13 & 14 & 15\n",
    "\\end{bmatrix}$\n",
    "\n",
    "2) spróbuj indeksami dostać się do elementów:    \n",
    "  ![Pic1](https://raw.githubusercontent.com/R-Ladies-Warsaw/PoweR/master/Cz%C4%99%C5%9B%C4%87%202%20-%20Formatowanie%20danych/Python/img/zad1_2.png)\n",
    "\n",
    "3)     \n",
    "  ![Pic2](https://raw.githubusercontent.com/R-Ladies-Warsaw/PoweR/master/Cz%C4%99%C5%9B%C4%87%202%20-%20Formatowanie%20danych/Python/img/zad1_3.png)\n",
    "\n",
    "4)     \n",
    "  ![Pic1](https://raw.githubusercontent.com/R-Ladies-Warsaw/PoweR/master/Cz%C4%99%C5%9B%C4%87%202%20-%20Formatowanie%20danych/Python/img/zad1_1.png)\n",
    " \n",
    "5) znajdź indeksy wartości mniejszych niż 10, ale większych od 4 "
   ]
  },
  {
   "cell_type": "code",
   "execution_count": null,
   "metadata": {},
   "outputs": [],
   "source": []
  },
  {
   "cell_type": "markdown",
   "metadata": {},
   "source": [
    "# 3. Operacje na listach\n",
    "## 3.1 Podstawowe działania"
   ]
  },
  {
   "cell_type": "code",
   "execution_count": null,
   "metadata": {},
   "outputs": [],
   "source": [
    "# weźmy listy a,b \n",
    "a = np.array([1,1,2,1])\n",
    "b = np.array([1,2,3,4])"
   ]
  },
  {
   "cell_type": "code",
   "execution_count": null,
   "metadata": {},
   "outputs": [],
   "source": [
    "a + 3"
   ]
  },
  {
   "cell_type": "code",
   "execution_count": null,
   "metadata": {},
   "outputs": [],
   "source": [
    "a * 3"
   ]
  },
  {
   "cell_type": "code",
   "execution_count": null,
   "metadata": {},
   "outputs": [],
   "source": [
    "a + b"
   ]
  },
  {
   "cell_type": "code",
   "execution_count": null,
   "metadata": {},
   "outputs": [],
   "source": [
    "a * b "
   ]
  },
  {
   "cell_type": "code",
   "execution_count": null,
   "metadata": {},
   "outputs": [],
   "source": [
    "a - b"
   ]
  },
  {
   "cell_type": "code",
   "execution_count": null,
   "metadata": {},
   "outputs": [],
   "source": [
    "a/b"
   ]
  },
  {
   "cell_type": "code",
   "execution_count": null,
   "metadata": {},
   "outputs": [],
   "source": [
    "a**b"
   ]
  },
  {
   "cell_type": "code",
   "execution_count": null,
   "metadata": {},
   "outputs": [],
   "source": [
    "# co jesli listy nie są tych samych kształtów \n",
    "a = np.arange(5)\n",
    "b = np.repeat(2,4)\n",
    "\n",
    "print(f\"a.shape = {a.shape} \\nb.shape = {b.shape}\")"
   ]
  },
  {
   "cell_type": "markdown",
   "metadata": {},
   "source": [
    "### Uwaga! Musimy pilnować kształtu przy zwektoryzowanych operacjach"
   ]
  },
  {
   "cell_type": "code",
   "execution_count": null,
   "metadata": {},
   "outputs": [],
   "source": [
    "a + b "
   ]
  },
  {
   "cell_type": "markdown",
   "metadata": {},
   "source": [
    "## 3.2 Metody obiektów ndarray + czyli kilka przydatnych rzeczy :) \n",
    "\n",
    "Obiekty klasy ndarray ma zdefiniowane różne metody, takie jak średnia, mediana, suma itp... Wykonujemy te operacje tak jak metody w Python. Na przykład `a.sum()`, `a.mean()`, zwrócą nam jedną liczbę. Gdy chcemy na przykład zsumować kolumy lub wiersze, będziemy się posługiwali się `axis`. "
   ]
  },
  {
   "cell_type": "code",
   "execution_count": null,
   "metadata": {},
   "outputs": [],
   "source": [
    "# jeden wymiar \n",
    "a = np.arange(10,21)\n",
    "a"
   ]
  },
  {
   "cell_type": "code",
   "execution_count": null,
   "metadata": {},
   "outputs": [],
   "source": [
    "# średnia\n",
    "a.mean()"
   ]
  },
  {
   "cell_type": "code",
   "execution_count": null,
   "metadata": {},
   "outputs": [],
   "source": [
    "# suma \n",
    "a.sum()"
   ]
  },
  {
   "cell_type": "code",
   "execution_count": null,
   "metadata": {},
   "outputs": [],
   "source": [
    "# max, minimum analogicznie\n",
    "a.max()"
   ]
  },
  {
   "cell_type": "code",
   "execution_count": null,
   "metadata": {},
   "outputs": [],
   "source": [
    "# indeks maksymalnej wartości\n",
    "a.argmax()"
   ]
  },
  {
   "cell_type": "code",
   "execution_count": null,
   "metadata": {},
   "outputs": [],
   "source": [
    "# czy ten sam? \n",
    "a[a.argmax()]"
   ]
  },
  {
   "cell_type": "code",
   "execution_count": null,
   "metadata": {},
   "outputs": [],
   "source": [
    "a.cumsum()"
   ]
  },
  {
   "cell_type": "markdown",
   "metadata": {},
   "source": [
    "![Shape](https://raw.githubusercontent.com/R-Ladies-Warsaw/PoweR/master/Cz%C4%99%C5%9B%C4%87%202%20-%20Formatowanie%20danych/Python/img/numpy_array_t.png)"
   ]
  },
  {
   "cell_type": "code",
   "execution_count": null,
   "metadata": {},
   "outputs": [],
   "source": [
    "# mając taką listę\n",
    "a"
   ]
  },
  {
   "cell_type": "code",
   "execution_count": null,
   "metadata": {},
   "outputs": [],
   "source": [
    "# domyślnie dla 1 wymiaru axis ustawiony jest na 0\n",
    "a.sum(axis = 0 )"
   ]
  },
  {
   "cell_type": "code",
   "execution_count": null,
   "metadata": {},
   "outputs": [],
   "source": [
    "# operacje na macierzach \n",
    "\n",
    "A = np.arange(5*5).reshape(5,5) # 5x5\n",
    "A"
   ]
  },
  {
   "cell_type": "code",
   "execution_count": null,
   "metadata": {},
   "outputs": [],
   "source": [
    "# suma wszystkich wartości\n",
    "A.sum()"
   ]
  },
  {
   "cell_type": "code",
   "execution_count": null,
   "metadata": {},
   "outputs": [],
   "source": [
    "A.sum(axis = 0)"
   ]
  },
  {
   "cell_type": "code",
   "execution_count": null,
   "metadata": {},
   "outputs": [],
   "source": [
    "A.sum(axis = 1)"
   ]
  },
  {
   "cell_type": "code",
   "execution_count": null,
   "metadata": {},
   "outputs": [],
   "source": [
    "# co z tego wyjdzie?\n",
    "A.sum(axis = 2)"
   ]
  },
  {
   "cell_type": "code",
   "execution_count": null,
   "metadata": {},
   "outputs": [],
   "source": [
    "# dla przypomnienia\n",
    "A"
   ]
  },
  {
   "cell_type": "code",
   "execution_count": null,
   "metadata": {},
   "outputs": [],
   "source": [
    "A.max(axis = 0)"
   ]
  },
  {
   "cell_type": "code",
   "execution_count": null,
   "metadata": {},
   "outputs": [],
   "source": [
    "A.max(axis = 1)"
   ]
  },
  {
   "cell_type": "code",
   "execution_count": null,
   "metadata": {},
   "outputs": [],
   "source": [
    "# czyli na przykład możemy wykonywać takie obliczenia: \n",
    "b = np.array([1,-1,1,-1,1])\n",
    "b"
   ]
  },
  {
   "cell_type": "code",
   "execution_count": null,
   "metadata": {},
   "outputs": [],
   "source": [
    "# czy możemy pomnożyć? \n",
    "A * b "
   ]
  },
  {
   "cell_type": "code",
   "execution_count": null,
   "metadata": {},
   "outputs": [],
   "source": [
    "print(f'A.shape = {A.shape}, b.shape = {b.shape}.') "
   ]
  },
  {
   "cell_type": "code",
   "execution_count": null,
   "metadata": {},
   "outputs": [],
   "source": [
    "b.reshape(5,1)"
   ]
  },
  {
   "cell_type": "code",
   "execution_count": null,
   "metadata": {},
   "outputs": [],
   "source": [
    "# jak pomnożyć wiersze razy b ? \n",
    "A * b.reshape(5,1)"
   ]
  },
  {
   "cell_type": "code",
   "execution_count": null,
   "metadata": {},
   "outputs": [],
   "source": [
    "# jak pomnożyć sumy kolumn przez b? \n",
    "A.sum(axis = 0) * b"
   ]
  },
  {
   "cell_type": "code",
   "execution_count": null,
   "metadata": {},
   "outputs": [],
   "source": [
    "# tak samo możemy zrobić z rzędami, bo A degraduje się o jeden wymiar\n",
    "A.sum(axis = 1).shape"
   ]
  },
  {
   "cell_type": "code",
   "execution_count": null,
   "metadata": {},
   "outputs": [],
   "source": [
    "B = np.arange(50).reshape(5,10)\n",
    "B"
   ]
  },
  {
   "cell_type": "code",
   "execution_count": null,
   "metadata": {},
   "outputs": [],
   "source": [
    "A"
   ]
  },
  {
   "cell_type": "code",
   "execution_count": null,
   "metadata": {},
   "outputs": [],
   "source": [
    "# algebraiczne mnożenie macierzy\n",
    "A @ B"
   ]
  },
  {
   "cell_type": "code",
   "execution_count": null,
   "metadata": {},
   "outputs": [],
   "source": [
    "# lub \n",
    "np.dot(A,B)"
   ]
  },
  {
   "cell_type": "markdown",
   "metadata": {},
   "source": [
    "## 3.3 zadania  (15 min)"
   ]
  },
  {
   "cell_type": "markdown",
   "metadata": {},
   "source": [
    "### Zadanie 1\n",
    "Mając funcję daną wzorem   \n",
    "\n",
    "$f(a,b) = \\frac{(a^2+b^3)^b - cos( \\pi * a)}{10}$       \n",
    "\n",
    "uzupełnij funckję `dzialanie`, która zwraca wartość funkcji dla a i b. Pamiętaj o sprawdzeniu poprawności wprowadzanych danych. Jeźeli dane nie są poprawne zwroc komunikat \"Nieprawidlowy ksztalt\""
   ]
  },
  {
   "cell_type": "code",
   "execution_count": null,
   "metadata": {},
   "outputs": [],
   "source": [
    "def dzialanie(a,b): \n",
    "    \"\"\"\n",
    "    a,b - ndarray\n",
    "    out - zwracana lista, lub komunikat o błędzie \n",
    "    \"\"\"\n",
    "    # podpowiedź: jako funkcji cos() użyj np.cos(ndarray), a jako pi np.pi\n",
    "    # do badania kształtu użyj konstrukcji warunkowych if, else\n",
    "    \n",
    "    #=======================================Twoj kod=======================================\n",
    "\n",
    "\n",
    "    #======================================================================================\n",
    "    \n",
    "    return out"
   ]
  },
  {
   "cell_type": "code",
   "execution_count": null,
   "metadata": {},
   "outputs": [],
   "source": [
    "# nie zmieniać kodu!\n",
    "a = np.array([3,2,1])\n",
    "b = np.array([1,1,2])\n",
    "\n",
    "dzialanie(a,b)"
   ]
  },
  {
   "cell_type": "markdown",
   "metadata": {},
   "source": [
    "Odpowiedz:  [1.1, 0.4, 8.2]"
   ]
  },
  {
   "cell_type": "markdown",
   "metadata": {},
   "source": [
    "### Zadanie 2 \n",
    "Majac funkcje `dzialanie2` uzupelnij kod tak, aby przy danych listach  `A` i `B`(o wymiarach (20,)) konwertowal je do macierzy która ma 4 rzędy i 5 kolumn, a nastepnie stworzyc macierz ktora powstala w nastepujacy sposob: \n",
    "1. Kolumna `A` o indeksie 2 jest mnożna przez sumę wiersza `B` o indeksie 3. \n",
    "2. Kolumna `A` o indeksie 3 zamieniona jest przez kolumne `B` o indeksie 4 pomnozona przez -1.\n",
    "3. Macierz powstałą z kroków 1 oraz 2 nazywamy `C`.\n",
    "4. Co drugi wiersz macierzy `C` jest mnożony przez 2 "
   ]
  },
  {
   "cell_type": "code",
   "execution_count": null,
   "metadata": {},
   "outputs": [],
   "source": [
    "def dzialanie2(A,B): \n",
    "    \"\"\"\n",
    "    A, B - 1d arrays\n",
    "    \"\"\"\n",
    "    #===============================================Twój kod======================================================\n",
    "\n",
    "    \n",
    "    #================================================koniec========================================================\n",
    "    \n",
    "    return C"
   ]
  },
  {
   "cell_type": "code",
   "execution_count": null,
   "metadata": {},
   "outputs": [],
   "source": [
    "# nie zmieniać kodu!\n",
    "A = np.arange(1,21)\n",
    "B = np.arange(20,40)\n",
    "\n",
    "dzialanie2(A,B)"
   ]
  },
  {
   "cell_type": "markdown",
   "metadata": {},
   "source": [
    "Odpowiedź\n",
    "\n",
    "       [[   2,    4, 1110,  -48,   10]\n",
    "        [   6,    7, 1480,  -29,   10]\n",
    "        [  22,   24, 4810,  -68,   30]\n",
    "        [  16,   17, 3330,  -39,   20]]"
   ]
  },
  {
   "cell_type": "markdown",
   "metadata": {},
   "source": [
    "# 4 Wprowadzenie do Pandas\n",
    "## 4.1 Podstawy\n",
    "\n",
    "**Pandas** - biblioteka do manipulacji ramkami danych, tak samo jak numpy jest szybka, lekka i wygodna. \n",
    "\n",
    "### Z poprzednich warsztatów\n",
    "**Series**: Series jest to jednowymiarowa struktura danych („jednowymiarowa tablica”), która może przechowywać wartości i dla każdej wartości ma także unikalny indeks   \n",
    "**DataFrame**: DataFrame to dwuwymiarowa (lub więcej) wymiarowa struktura danych - w zasadzie tabela z wierszami i kolumnami. Kolumny mają nazwy, a wiersze indeksy."
   ]
  },
  {
   "cell_type": "code",
   "execution_count": null,
   "metadata": {},
   "outputs": [],
   "source": [
    "import pandas as pd "
   ]
  },
  {
   "cell_type": "code",
   "execution_count": null,
   "metadata": {},
   "outputs": [],
   "source": [
    "# Import danych dzięki funkci pd.read_csv()\n",
    "df = pd.read_csv(\"https://raw.githubusercontent.com/R-Ladies-Warsaw/PoweR/master/Cz%C4%99%C5%9B%C4%87%202%20-%20Formatowanie%20danych/Python/data/vgsales.csv\", delimiter= \",\").dropna().reset_index(drop=True) # na windows data/vgsales.csv"
   ]
  },
  {
   "cell_type": "code",
   "execution_count": null,
   "metadata": {},
   "outputs": [],
   "source": [
    "type(df)"
   ]
  },
  {
   "cell_type": "code",
   "execution_count": null,
   "metadata": {},
   "outputs": [],
   "source": [
    "# spójrzmy na \"głowę\" naszej ramki danych\n",
    "df.head()"
   ]
  },
  {
   "cell_type": "code",
   "execution_count": null,
   "metadata": {},
   "outputs": [],
   "source": [
    "# pomijamy rank \n",
    "df = df.drop(\"Rank\", axis = 1)"
   ]
  },
  {
   "cell_type": "code",
   "execution_count": null,
   "metadata": {},
   "outputs": [],
   "source": [
    "# gdy wywołamy zmienną ukaże się nam cała tabela, gdy będzie duża pokaże początek i koniec tabeli\n",
    "df"
   ]
  },
  {
   "cell_type": "markdown",
   "metadata": {},
   "source": [
    "### 4.1.1 Atrybuty pd.DataFrame"
   ]
  },
  {
   "cell_type": "code",
   "execution_count": null,
   "metadata": {},
   "outputs": [],
   "source": [
    "df.index"
   ]
  },
  {
   "cell_type": "code",
   "execution_count": null,
   "metadata": {},
   "outputs": [],
   "source": [
    "type(df.index)"
   ]
  },
  {
   "cell_type": "code",
   "execution_count": null,
   "metadata": {},
   "outputs": [],
   "source": [
    "df.columns"
   ]
  },
  {
   "cell_type": "code",
   "execution_count": null,
   "metadata": {},
   "outputs": [],
   "source": [
    "df.dtypes   # Sposób zapisu może się różnić od sposobu zapisu danych itp."
   ]
  },
  {
   "cell_type": "code",
   "execution_count": null,
   "metadata": {},
   "outputs": [],
   "source": [
    "df.axes"
   ]
  },
  {
   "cell_type": "code",
   "execution_count": null,
   "metadata": {},
   "outputs": [],
   "source": [
    "df.shape"
   ]
  },
  {
   "cell_type": "markdown",
   "metadata": {},
   "source": [
    "### 4.1.2 Wybieranie kolumn, oraz czym jest kolumna"
   ]
  },
  {
   "cell_type": "code",
   "execution_count": null,
   "metadata": {},
   "outputs": [],
   "source": [
    "df[\"Platform\"]  "
   ]
  },
  {
   "cell_type": "code",
   "execution_count": null,
   "metadata": {},
   "outputs": [],
   "source": [
    "# alternatywnie df.Platform - kiedy uzywac? \n",
    "df.JP_Sales"
   ]
  },
  {
   "cell_type": "code",
   "execution_count": null,
   "metadata": {},
   "outputs": [],
   "source": [
    "df[[\"Platform\",\"Name\"]]"
   ]
  },
  {
   "cell_type": "code",
   "execution_count": null,
   "metadata": {},
   "outputs": [],
   "source": [
    "type(df.Platform)"
   ]
  },
  {
   "cell_type": "markdown",
   "metadata": {},
   "source": [
    "\n",
    "\n",
    "## 4.2 Indeksowanie\n",
    "\n",
    "Omówimy 3 główne sposoby indeksowania w Pandas: \n",
    "1. []\n",
    "2. .iloc[]\n",
    "3. .loc[]\n",
    "\n",
    "Dla lepszego wizualnego zrozumienia, początkowo wybierzemy kilka losowych wierszy"
   ]
  },
  {
   "cell_type": "code",
   "execution_count": null,
   "metadata": {},
   "outputs": [],
   "source": [
    "np.random.seed(123)\n",
    "smalldf = df.iloc[np.random.randint(0,df.shape[0],10),:].reset_index(drop=True)"
   ]
  },
  {
   "cell_type": "code",
   "execution_count": null,
   "metadata": {},
   "outputs": [],
   "source": [
    "smalldf"
   ]
  },
  {
   "cell_type": "markdown",
   "metadata": {},
   "source": [
    "### Sposób 1) []"
   ]
  },
  {
   "cell_type": "code",
   "execution_count": null,
   "metadata": {
    "scrolled": true
   },
   "outputs": [],
   "source": [
    "smalldf[1:3]"
   ]
  },
  {
   "cell_type": "code",
   "execution_count": null,
   "metadata": {},
   "outputs": [],
   "source": [
    "# jak w numpy i w python\n",
    "smalldf[0::2]  # - dla obserwacji"
   ]
  },
  {
   "cell_type": "code",
   "execution_count": null,
   "metadata": {},
   "outputs": [],
   "source": [
    "# nie można łączyć \n",
    "smalldf[0:4,1]"
   ]
  },
  {
   "cell_type": "markdown",
   "metadata": {},
   "source": [
    "### Sposób 2) .loc[]"
   ]
  },
  {
   "cell_type": "code",
   "execution_count": null,
   "metadata": {},
   "outputs": [],
   "source": [
    "smalldf.loc[0:4,[\"Name\"]]"
   ]
  },
  {
   "cell_type": "code",
   "execution_count": null,
   "metadata": {},
   "outputs": [],
   "source": [
    "smalldf.columns[0:4]"
   ]
  },
  {
   "cell_type": "code",
   "execution_count": null,
   "metadata": {},
   "outputs": [],
   "source": [
    "# dzięki .loc[] możemy łączyć kolumny i indeksy, co jeszcze możemy robić? \n",
    "smalldf.loc[0:4, smalldf.columns[0:4]]"
   ]
  },
  {
   "cell_type": "code",
   "execution_count": null,
   "metadata": {},
   "outputs": [],
   "source": [
    "smalldf"
   ]
  },
  {
   "cell_type": "code",
   "execution_count": null,
   "metadata": {},
   "outputs": [],
   "source": [
    "# możemy też wybierać \"logicznie\"\n",
    "smalldf.loc[smalldf.Global_Sales > 1]"
   ]
  },
  {
   "cell_type": "code",
   "execution_count": null,
   "metadata": {},
   "outputs": [],
   "source": [
    "smalldf.Global_Sales > 1"
   ]
  },
  {
   "cell_type": "code",
   "execution_count": null,
   "metadata": {},
   "outputs": [],
   "source": [
    "smalldf.loc[(smalldf.Genre == \"Platform\") & (smalldf.Year < 2010)]"
   ]
  },
  {
   "cell_type": "markdown",
   "metadata": {},
   "source": [
    "### Sposób 3) .iloc[]"
   ]
  },
  {
   "cell_type": "code",
   "execution_count": null,
   "metadata": {},
   "outputs": [],
   "source": [
    "# dzieli .iloc[] możemy wybierać indeksy \n",
    "smalldf.iloc[0:3, 3:5]"
   ]
  },
  {
   "cell_type": "code",
   "execution_count": null,
   "metadata": {},
   "outputs": [],
   "source": [
    "smalldf.iloc[[0,1,2],[3,4]]"
   ]
  },
  {
   "cell_type": "code",
   "execution_count": null,
   "metadata": {},
   "outputs": [],
   "source": [
    "smalldf.iloc[2:10:3,2:10:2]"
   ]
  },
  {
   "cell_type": "markdown",
   "metadata": {},
   "source": [
    "### Podsumowując \n",
    "* Gdy chcemy kolumnę po nazwie -> []\n",
    "* Gdy chcemy obserwacje, kolumny po wartościach logicznych lub ich nazwach -> .loc[]\n",
    "* Gdy chcemy obserwacje, kolumny po ich indeksach -> .iloc[]"
   ]
  },
  {
   "cell_type": "markdown",
   "metadata": {},
   "source": [
    "## 4.3 Metody ramek danych"
   ]
  },
  {
   "cell_type": "markdown",
   "metadata": {},
   "source": [
    "Ramki danych jako obiekty mają wiele przydatnych metod. Poznamy niektóre z nich."
   ]
  },
  {
   "cell_type": "code",
   "execution_count": null,
   "metadata": {},
   "outputs": [],
   "source": [
    "df.Name"
   ]
  },
  {
   "cell_type": "code",
   "execution_count": null,
   "metadata": {},
   "outputs": [],
   "source": [
    "df.Name.count()"
   ]
  },
  {
   "cell_type": "code",
   "execution_count": null,
   "metadata": {},
   "outputs": [],
   "source": [
    "df.Name.unique()"
   ]
  },
  {
   "cell_type": "code",
   "execution_count": null,
   "metadata": {},
   "outputs": [],
   "source": [
    "df.Name.unique().shape"
   ]
  },
  {
   "cell_type": "code",
   "execution_count": null,
   "metadata": {},
   "outputs": [],
   "source": [
    "df.Year.mode()"
   ]
  },
  {
   "cell_type": "code",
   "execution_count": null,
   "metadata": {},
   "outputs": [],
   "source": [
    "df.Global_Sales.median()"
   ]
  },
  {
   "cell_type": "code",
   "execution_count": null,
   "metadata": {},
   "outputs": [],
   "source": [
    "df.Global_Sales.max()"
   ]
  },
  {
   "cell_type": "code",
   "execution_count": null,
   "metadata": {},
   "outputs": [],
   "source": [
    "df.describe()"
   ]
  },
  {
   "cell_type": "code",
   "execution_count": null,
   "metadata": {},
   "outputs": [],
   "source": [
    "# Ile gier sprzedalo sie w nakładzie wiekszym niż 1 mln\n",
    "df.loc[df.Global_Sales > 1].shape"
   ]
  },
  {
   "cell_type": "code",
   "execution_count": null,
   "metadata": {},
   "outputs": [],
   "source": [
    "# Jaki to był procent wszystkich gier\n",
    "df.Global_Sales[df.Global_Sales > 1].count()/df.Global_Sales.count() * 100"
   ]
  },
  {
   "cell_type": "code",
   "execution_count": null,
   "metadata": {},
   "outputs": [],
   "source": [
    "df.Year.min()"
   ]
  },
  {
   "cell_type": "code",
   "execution_count": null,
   "metadata": {},
   "outputs": [],
   "source": [
    "year_min = df.Year.argmin()\n",
    "year_min"
   ]
  },
  {
   "cell_type": "code",
   "execution_count": null,
   "metadata": {},
   "outputs": [],
   "source": [
    "df.Year[year_min]"
   ]
  },
  {
   "cell_type": "code",
   "execution_count": null,
   "metadata": {},
   "outputs": [],
   "source": [
    "df.NA_Sales + df.EU_Sales"
   ]
  },
  {
   "cell_type": "code",
   "execution_count": null,
   "metadata": {},
   "outputs": [],
   "source": [
    "df.EU_Sales.sort_values(ascending = False)"
   ]
  },
  {
   "cell_type": "code",
   "execution_count": null,
   "metadata": {},
   "outputs": [],
   "source": [
    "df.sort_values(\"EU_Sales\", ascending = False).head()"
   ]
  },
  {
   "cell_type": "code",
   "execution_count": null,
   "metadata": {},
   "outputs": [],
   "source": [
    "df.sort_values(\"EU_Sales\", ascending = False).reset_index().head()"
   ]
  },
  {
   "cell_type": "code",
   "execution_count": null,
   "metadata": {},
   "outputs": [],
   "source": [
    "df.sort_values(\"EU_Sales\", ascending = False).reset_index(drop=True).head()"
   ]
  },
  {
   "cell_type": "code",
   "execution_count": null,
   "metadata": {},
   "outputs": [],
   "source": [
    "df.sort_values([\"Genre\", \"Platform\"]).reset_index(drop=True).head()"
   ]
  },
  {
   "cell_type": "markdown",
   "metadata": {},
   "source": [
    "## 4.4 Zadanie  (5 min)\n",
    "\n",
    "### Zadanie 1\n",
    "Wybierz te gry, które sprzedały się lepiej W Europie niż w Ameryce Północnej. Ile ich było? Jaki to procent wszystkich gier? "
   ]
  },
  {
   "cell_type": "code",
   "execution_count": null,
   "metadata": {},
   "outputs": [],
   "source": []
  },
  {
   "cell_type": "markdown",
   "metadata": {},
   "source": [
    "## 4.5 Groupby & Merge"
   ]
  },
  {
   "cell_type": "markdown",
   "metadata": {},
   "source": [
    "![groupby](https://raw.githubusercontent.com/R-Ladies-Warsaw/PoweR/master/Cz%C4%99%C5%9B%C4%87%202%20-%20Formatowanie%20danych/Python/img/groupby.png)"
   ]
  },
  {
   "cell_type": "markdown",
   "metadata": {},
   "source": [
    "Illustration from book : Python for Data Analysis. Data Wrangling with Pandas, Numpy and Ipython (2017, O'Reilly)"
   ]
  },
  {
   "cell_type": "code",
   "execution_count": null,
   "metadata": {},
   "outputs": [],
   "source": [
    "df.groupby(\"Genre\")"
   ]
  },
  {
   "cell_type": "code",
   "execution_count": null,
   "metadata": {},
   "outputs": [],
   "source": [
    "df.groupby(\"Genre\").Name"
   ]
  },
  {
   "cell_type": "code",
   "execution_count": null,
   "metadata": {},
   "outputs": [],
   "source": [
    "df.groupby(\"Genre\")[[\"Name\", \"Global_Sales\"]]"
   ]
  },
  {
   "cell_type": "code",
   "execution_count": null,
   "metadata": {},
   "outputs": [],
   "source": [
    "df.groupby(\"Genre\").Name.agg(\"count\")"
   ]
  },
  {
   "cell_type": "code",
   "execution_count": null,
   "metadata": {},
   "outputs": [],
   "source": [
    "df.groupby(\"Genre\").Global_Sales"
   ]
  },
  {
   "cell_type": "code",
   "execution_count": null,
   "metadata": {},
   "outputs": [],
   "source": [
    "df.groupby(\"Genre\").Global_Sales.agg(\"sum\")"
   ]
  },
  {
   "cell_type": "code",
   "execution_count": null,
   "metadata": {},
   "outputs": [],
   "source": [
    "df.groupby(\"Genre\").Global_Sales.agg(\"max\")"
   ]
  },
  {
   "cell_type": "markdown",
   "metadata": {},
   "source": [
    "**grupować można nie tylko po jednej kolumnie** \n",
    "\n"
   ]
  },
  {
   "cell_type": "code",
   "execution_count": null,
   "metadata": {},
   "outputs": [],
   "source": [
    "df2 = df.groupby([\"Genre\",\"Platform\"])[[\"Global_Sales\", \"Name\"]].agg(\"max\")"
   ]
  },
  {
   "cell_type": "code",
   "execution_count": null,
   "metadata": {},
   "outputs": [],
   "source": [
    "df2"
   ]
  },
  {
   "cell_type": "code",
   "execution_count": null,
   "metadata": {},
   "outputs": [],
   "source": [
    "# a co jeśli chcemy wnioski z naszej wynikowej tabeli zawrzeć do tej pierwotnej? "
   ]
  },
  {
   "cell_type": "code",
   "execution_count": null,
   "metadata": {},
   "outputs": [],
   "source": [
    "df3 = df.groupby(\"Platform\").Global_Sales.agg(\"sum\")\n",
    "df3 = df3.to_frame()\n",
    "df3 = df3.reset_index()"
   ]
  },
  {
   "cell_type": "code",
   "execution_count": null,
   "metadata": {},
   "outputs": [],
   "source": [
    "df3"
   ]
  },
  {
   "cell_type": "code",
   "execution_count": null,
   "metadata": {},
   "outputs": [],
   "source": [
    "df3.shape"
   ]
  },
  {
   "cell_type": "code",
   "execution_count": null,
   "metadata": {},
   "outputs": [],
   "source": [
    "df3.head()\n"
   ]
  },
  {
   "cell_type": "code",
   "execution_count": null,
   "metadata": {},
   "outputs": [],
   "source": [
    "# Teraz wyniki naszej analizy połączymy z naszą tabelką df2"
   ]
  },
  {
   "cell_type": "code",
   "execution_count": null,
   "metadata": {},
   "outputs": [],
   "source": [
    "df4 = df.merge(df3, on = \"Platform\")\n",
    "df4"
   ]
  },
  {
   "cell_type": "code",
   "execution_count": null,
   "metadata": {},
   "outputs": [],
   "source": [
    "df4.rename(columns = {'Global_Sales_y':\"Platform Global Sales\", \n",
    "                      'Global_Sales_x': \"Global_Sales\"})"
   ]
  },
  {
   "cell_type": "code",
   "execution_count": null,
   "metadata": {},
   "outputs": [],
   "source": [
    "df4.head() # ważne żeby przypisać"
   ]
  },
  {
   "cell_type": "code",
   "execution_count": null,
   "metadata": {},
   "outputs": [],
   "source": [
    "df4 = df4.rename(columns = {'Global_Sales_y':\"Aggregated Global Sales\", \n",
    "                            'Global_Sales_x': \"Global_Sales\"})"
   ]
  },
  {
   "cell_type": "code",
   "execution_count": null,
   "metadata": {},
   "outputs": [],
   "source": [
    "df4.head()"
   ]
  },
  {
   "cell_type": "markdown",
   "metadata": {},
   "source": [
    "## 4.6 Zastosowania"
   ]
  },
  {
   "cell_type": "markdown",
   "metadata": {},
   "source": [
    "### Sprawdźmy gry które sprzedały się najlepiej w swojej kategorii"
   ]
  },
  {
   "cell_type": "code",
   "execution_count": null,
   "metadata": {},
   "outputs": [],
   "source": [
    "# najpierw przekształcimy delikatnie nasz data frame"
   ]
  },
  {
   "cell_type": "code",
   "execution_count": null,
   "metadata": {},
   "outputs": [],
   "source": [
    "df.head()"
   ]
  },
  {
   "cell_type": "code",
   "execution_count": null,
   "metadata": {},
   "outputs": [],
   "source": [
    "best_games = df.groupby(\"Genre\")[\"Global_Sales\"].max()\n",
    "best_games"
   ]
  },
  {
   "cell_type": "code",
   "execution_count": null,
   "metadata": {},
   "outputs": [],
   "source": [
    "df.loc[df.Global_Sales.isin(best_games), :]"
   ]
  },
  {
   "cell_type": "markdown",
   "metadata": {},
   "source": [
    "Bardziej skomplikowane zadanie \n",
    "### Sprawdzimy jaka była sprzedaż gier na konsole w 2 roku ich sprzedaży. Pokaż tylko te konsole w których sprzedaż w 2 roku była mniejsza niż w 1. "
   ]
  },
  {
   "cell_type": "code",
   "execution_count": null,
   "metadata": {},
   "outputs": [],
   "source": [
    "start_year = df.groupby(\"Platform\").Year.min()\n",
    "start_year[:5]"
   ]
  },
  {
   "cell_type": "code",
   "execution_count": null,
   "metadata": {},
   "outputs": [],
   "source": [
    "df5 = df.groupby([\"Platform\",\"Year\"]).Global_Sales.sum().to_frame()\n",
    "df5.head()"
   ]
  },
  {
   "cell_type": "code",
   "execution_count": null,
   "metadata": {},
   "outputs": [],
   "source": [
    "df5 = df5.reset_index()\n",
    "df5"
   ]
  },
  {
   "cell_type": "code",
   "execution_count": null,
   "metadata": {},
   "outputs": [],
   "source": [
    "# teraz chcemy jakoś zamarkować rok konsoli na rynku jako pierwszy lub drugi"
   ]
  },
  {
   "cell_type": "code",
   "execution_count": null,
   "metadata": {},
   "outputs": [],
   "source": [
    "start_year = start_year.to_frame().reset_index()\n",
    "start_year[:5]"
   ]
  },
  {
   "cell_type": "code",
   "execution_count": null,
   "metadata": {},
   "outputs": [],
   "source": [
    "start_year = start_year.rename(columns = {\"Year\":\"First Year\"})\n",
    "start_year.head()"
   ]
  },
  {
   "cell_type": "code",
   "execution_count": null,
   "metadata": {},
   "outputs": [],
   "source": [
    "df5 = df5.merge(start_year, on=\"Platform\")\n",
    "df5"
   ]
  },
  {
   "cell_type": "code",
   "execution_count": null,
   "metadata": {},
   "outputs": [],
   "source": [
    "first_year_sales = df5.loc[(df5.Year == df5[\"First Year\"])]"
   ]
  },
  {
   "cell_type": "code",
   "execution_count": null,
   "metadata": {},
   "outputs": [],
   "source": [
    "second_year_sales = df5.loc[df5.Year == df5[\"First Year\"] + 1]"
   ]
  },
  {
   "cell_type": "code",
   "execution_count": null,
   "metadata": {},
   "outputs": [],
   "source": [
    "end_df = first_year_sales.merge(second_year_sales, on = [\"Platform\"])\n",
    "end_df.head()"
   ]
  },
  {
   "cell_type": "code",
   "execution_count": null,
   "metadata": {},
   "outputs": [],
   "source": [
    "end_df.loc[end_df.Global_Sales_x > end_df.Global_Sales_y]"
   ]
  },
  {
   "cell_type": "markdown",
   "metadata": {},
   "source": [
    "## 4.7 Zadania (Do domu ) (15 min)\n",
    "\n",
    "### Zadanie 1\n",
    "\n",
    "Stwórz ramkę danych w której uwzględnisz gry na PS3 (`platform`), które sprzedały się lepiej w Europie niż w Ameryce"
   ]
  },
  {
   "cell_type": "code",
   "execution_count": null,
   "metadata": {},
   "outputs": [],
   "source": []
  },
  {
   "cell_type": "markdown",
   "metadata": {},
   "source": [
    "### Zadanie 2\n",
    "\n",
    "\n",
    "Odpowiedz na pytanie: \n",
    "Jakie typy gier sprzedają się średnio lepiej w Japonii niż w Europie? Jakie to typy gier i jaka jest ta wartość średnia. Wynikem powinna być tabelka posortowana względem średnich. Nazwij kolumny `Typ Gry` i `Średnia sprzedaż w Japonii`"
   ]
  },
  {
   "cell_type": "code",
   "execution_count": null,
   "metadata": {},
   "outputs": [],
   "source": []
  }
 ],
 "metadata": {
  "kernelspec": {
   "display_name": "Python 3",
   "language": "python",
   "name": "python3"
  },
  "language_info": {
   "codemirror_mode": {
    "name": "ipython",
    "version": 3
   },
   "file_extension": ".py",
   "mimetype": "text/x-python",
   "name": "python",
   "nbconvert_exporter": "python",
   "pygments_lexer": "ipython3",
   "version": "3.8.3"
  }
 },
 "nbformat": 4,
 "nbformat_minor": 2
}
