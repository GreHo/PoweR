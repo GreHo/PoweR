{
 "cells": [
  {
   "cell_type": "markdown",
   "metadata": {},
   "source": [
    "# Zadania"
   ]
  },
  {
   "cell_type": "markdown",
   "metadata": {},
   "source": [
    "W niektórych zadaniach używam funkcji, chociaż na tym etapie jeszcze Państwo nie powinniście byli tego wiedzieć, ale mam nadzieje, że teraz jest już zrozumiałe :)"
   ]
  },
  {
   "cell_type": "markdown",
   "metadata": {},
   "source": [
    "## Task block 1"
   ]
  },
  {
   "cell_type": "markdown",
   "metadata": {},
   "source": [
    "1. Stwórz listę liczb od 0 do 500\n",
    "<br>\n",
    "\n",
    "2. Policz sumę wszystkich elementów tej listy\n",
    "<br>\n",
    "\n",
    "3. Odwróć tę listę\n",
    "<br>\n",
    "\n",
    "4. Dodaj na początek słowo PoweR\n",
    "<br>\n",
    "\n",
    "5. Stwórz listę parzystych liczb o długości 50\n",
    "<br>\n",
    "\n",
    "6. Dla stringa \"PoweR warsztaty i przygoda!\", usuń wszystkie litery z 6 znaku aż do końca, wyświetl otrzymany string\n",
    "\n",
    "    Oczekiwana wartość:\"PoweR \"\n",
    "<br>\n",
    "\n",
    "7. Mamy 2 stringa, s1 and s2, stwórz nowy string dodając s2 w środku s1\n",
    "\n",
    "    Before: \"Supplementary\"  i \"Vector\"\n",
    "    <br>\n",
    "    After: \"SupplVectorementary\"\n",
    "<br>\n",
    "<br>\n",
    "\n",
    "8. Policz liczbę wystąpień \"er\" w string = \"PoweR is the best event evER\" nie patrząc na wielkość litery\n",
    "<br>\n",
    "    Oczekiwana wartość :2"
   ]
  },
  {
   "cell_type": "markdown",
   "metadata": {},
   "source": [
    "## Propozycje rozwiązań"
   ]
  },
  {
   "cell_type": "code",
   "execution_count": null,
   "metadata": {},
   "outputs": [],
   "source": [
    "#task 1 \n",
    "l = list(range(501))\n",
    "print(l)\n",
    "\n",
    "#task 2 \n",
    "print(sum(l))\n",
    "\n",
    "#task 3\n",
    "l_reversed = l[::-1]\n",
    "print(l_reversed)\n",
    "\n",
    "#task 4\n",
    "l.insert(0, 'PoweR')\n",
    "print(l)\n",
    "\n",
    "#task 5\n",
    "even = list(range(0, 99, 2))\n",
    "print(len(even), even)\n",
    "\n",
    "#task 6 \n",
    "s1 = \"PoweR warsztaty i przygoda!\"\n",
    "s1 = s1[:6:1]\n",
    "print(len(s1), s1)\n",
    "\n",
    "#task 7\n",
    "def appendMiddle(s1, s2):\n",
    "    middleIndex = int(len(s1) / 2)\n",
    "    print(\"Original Strings are\", s1, s2)\n",
    "    middleThree = s1[:middleIndex-1:] + s2 + s1[middleIndex - 1:]\n",
    "    print(\"After appending new string in middle\", middleThree)\n",
    "    \n",
    "#task 8\n",
    "inputString = \"PoweR is the best event evER\"\n",
    "substring = \"er\"\n",
    "tempString = inputString.lower()\n",
    "count = tempString.count(substring.lower())\n",
    "print(\"The 'er' count is:\", count)"
   ]
  },
  {
   "cell_type": "markdown",
   "metadata": {},
   "source": [
    "## Task block 2"
   ]
  },
  {
   "cell_type": "markdown",
   "metadata": {},
   "source": [
    "1. Mamy listę, wypisz True jeśli pierwszy i ostatni element na liście jest taki sam\n",
    "2. Zrób listę od 1 do 100 i wypisz wszystkie liczby podzielne przez 5\n",
    "3. Wypisz taką piramidę\n",
    "<br>\n",
    "1 \n",
    "<br>\n",
    "2 2 \n",
    "<br>\n",
    "3 3 3 \n",
    "<br>\n",
    "4 4 4 4 \n",
    "<br>\n",
    "5 5 5 5 5\n",
    "<br>\n",
    "\n",
    "    *Pamiętaj o print (..., end=\" \")*\n",
    "4. Połącz dwie listy tak, że do wynikowej listy z pierwszej będą liczby nie parzyste, a z drugiej parzyste\n",
    "<br>\n",
    "list1 = [15, 22, 23, 17, 19]\n",
    "<br>\n",
    "list2 = [24, 43, 24, 36, 11]\n",
    "<br>\n",
    "Merged List is\n",
    "[15, 23, 17, 19, 24, 24, 36]\n",
    "5. Masz listę, policz wystąpienia kolejnych elementów i na podstawie tego stwórz słownik\n",
    "<br>\n",
    "list1 = [121, 43, 87, 121, 23, 43, 43, 43, 87]\n",
    "<br>\n",
    "dict1 = {121: 2, 43: 4, 87: 2, 23: 1}\n",
    "6. Unpack a tuple in variables\n",
    "7. Zamień wszystkie ostatnie wartości w tuple na 99 \n",
    "<br>\n",
    "l1 = [(10, 20, 40), (40, 50, 60), (70, 80, 90)]\n",
    "<br>\n",
    "result=[(10, 20, 99), (40, 50, 99), (70, 80, 99)]\n",
    "<br>\n",
    "8. Mamy listę mix[string, int , float ...] , stwórz nową listę która będzie miała tylko int"
   ]
  },
  {
   "cell_type": "markdown",
   "metadata": {},
   "source": [
    "## Propozycje rozwiązań"
   ]
  },
  {
   "cell_type": "code",
   "execution_count": null,
   "metadata": {},
   "outputs": [],
   "source": [
    "# 1 task\n",
    "def isFirst_And_Last_Same(numberList):\n",
    "    firstElement = numberList[0]\n",
    "    lastElement =  numberList[-1]\n",
    "    if(firstElement == lastElement):\n",
    "        return True\n",
    "    else:\n",
    "        return False\n",
    "\n",
    "numList = [10, 20, 30, 40, 10]\n",
    "print(\"Result is\", isFirst_And_Last_Same(numList))\n",
    "\n",
    "# 2 task\n",
    "def findDivisible(numberList):\n",
    "    for num in numberList:\n",
    "        if (num % 5 == 0):\n",
    "            print(num)\n",
    "\n",
    "numList = [10, 20, 33, 46, 55]\n",
    "findDivisible(numList)\n",
    "\n",
    "# 3 task\n",
    "for num in range(10):\n",
    "    for i in range(num):\n",
    "        print (num, end=\" \") #print number\n",
    "    print(\"\\n\")\n",
    "    \n",
    "# 4 task\n",
    "def mergeList(listOne, listTwo):\n",
    "    thirdList = []\n",
    "    for num in listOne:\n",
    "        if(num % 2 != 0):\n",
    "            thirdList.append(num)\n",
    "    for num in listTwo:\n",
    "        if(num % 2 == 0):\n",
    "            thirdList.append(num)\n",
    "    return thirdList\n",
    "    \n",
    "print(\"Merged List is\")\n",
    "listOne = [15, 22, 23, 17, 19]\n",
    "listTwo = [24, 43, 24, 36, 11]\n",
    "\n",
    "print(mergeList(listOne, listTwo))\n",
    "\n",
    "# 5 task\n",
    "sampleList = [121, 43, 87, 121, 23, 43, 43, 43, 87]\n",
    "countDict = dict()\n",
    "\n",
    "for item in sampleList:\n",
    "    if(item in countDict):\n",
    "        countDict[item] += 1\n",
    "    else:\n",
    "        countDict[item] = 1\n",
    "\n",
    "print(\"Printing count of each item  \", countDict)\n",
    "\n",
    "#6 task\n",
    "t=1,2,3,4,5\n",
    "t1,t2,t3,t4,t5=t\n",
    "print(t2)\n",
    "\n",
    "#7 task\n",
    "l = [(10, 20, 40), (40, 50, 60), (70, 80, 90)]\n",
    "print([t[:-1] + (100,) for t in l])\n",
    "\n",
    "#8 task\n",
    "def only_integer(lst):\n",
    "    return [i for i in lst if type(i) == int]"
   ]
  },
  {
   "cell_type": "markdown",
   "metadata": {},
   "source": [
    "## Task block 3"
   ]
  },
  {
   "cell_type": "markdown",
   "metadata": {},
   "source": [
    "1. Napisz program, który znajdzie wszystkie takie liczby, które są podzielne przez 7, ale nie są wielokrotnością 5,od 2000 do 3200 (włącznie).Otrzymane liczby należy wydrukować w oddzielonej przecinkami sekwencji w jednym wierszu.\n",
    "2. Napisz funkcję, która oblicza i drukuje wartość zgodnie z podaną formułą: Q = (2 * C * D)/H\n",
    "<br>\n",
    "    C - argument nienazwany - integer\n",
    "<br>\n",
    "    D - argument nienazwany - integer\n",
    "<br>\n",
    "    H - nie wiadomo ile jest argumentów nienazwanych(jeżeli więcej niż 1 to zsumować H1+H2+H3)\n",
    "<br>\n",
    "3. Zrób funkcję, przyjmującą listę tuple, indeks(\"i\") i wartość(\"w\"). Zamień wszystkie wartości na indeksie \"i\" w tuple na wartość (\"w\")\n",
    "<br>\n",
    "l1 = [(10, 20, 40), (40, 50, 60), (70, 80, 90)]\n",
    "<br>\n",
    "change(l1,1,77) \n",
    "<br>\n",
    "result=[(10, 77, 40), (40, 77, 60), (70, 77, 90)]\n",
    "<br>"
   ]
  },
  {
   "cell_type": "markdown",
   "metadata": {},
   "source": [
    "## Propozycje rozwiązań"
   ]
  },
  {
   "cell_type": "code",
   "execution_count": null,
   "metadata": {},
   "outputs": [],
   "source": [
    "#task 1\n",
    "l = []\n",
    "for i in range(2000, 3201):\n",
    "    if (i%7 == 0) and (i%5 != 0):\n",
    "        l.append(str(i))\n",
    "\n",
    "\n",
    "#task 2\n",
    "def func(c, d, *args):\n",
    "    h = sum(args)\n",
    "    print(h)\n",
    "    return 2 * c * d / h\n",
    "\n",
    "func(50, 30, 1, 2, 3, 4, 5)\n",
    "\n",
    "#task 3\n",
    "# Spójrz na rozwiązanie task 7 z task block 2 i przerób to na funkcję :) "
   ]
  },
  {
   "cell_type": "markdown",
   "metadata": {},
   "source": [
    "## Task block 4"
   ]
  },
  {
   "cell_type": "markdown",
   "metadata": {},
   "source": [
    "1.  Sprawdź szczegółowe informacje o Data Frame\n",
    "<br>\n",
    "2. Uzyskaj pierwsze 3 wiersze danych \n",
    "<br>\n",
    "3. Wyświetl kolumny „title” i „description” \n",
    "<br>\n",
    "4. Wyświetl kolumny \"show_id\", \"country\", \"data_added\" dla wierszy 0,3,6,24\n",
    "<br>\n",
    "5. Wyświetl wiersze gdzie release_year > 2010\n",
    "<br>\n",
    "6. Wyświetl wiersze, gdzie \"director\" is NaN\n",
    "<br>\n",
    "7. Policz ile jest takich wierszy jak w punkcie 5\n",
    "<br>\n",
    "8. Sprawdź typ kolumny \"duration\"\n",
    "<br>\n",
    "   Sprawdź co to znaczy\n",
    "<br>\n",
    "9. Zmień nazwę kolumny title na name\n",
    "<br>\n",
    "10. Dodaj nowy wiersz\n",
    "<br>"
   ]
  },
  {
   "cell_type": "code",
   "execution_count": null,
   "metadata": {},
   "outputs": [],
   "source": [
    "#task 1 \n",
    "data.info()\n",
    "\n",
    "#task 2\n",
    "display(data[:3])\n",
    "\n",
    "#task 3\n",
    "data[['title','description']]\n",
    "\n",
    "#task 4\n",
    "data.iloc[[0,3,6,24], [0,5,6]]\n",
    "\n",
    "#task 5\n",
    "display(data[data['release_year']>2010])\n",
    "\n",
    "#task 6\n",
    "display(data[data['director'].isnull()])\n",
    "\n",
    "#task 7\n",
    "display(len(data[data['director'].isnull()]))\n",
    "\n",
    "#task 8\n",
    "display(data.dtypes['duration'])\n",
    "\n",
    "#task 9\n",
    "data=data.rename(columns={'title': 'name'})\n",
    "\n",
    "#task 10\n",
    "df2 = {'show_id': 10, 'name': \"kot\"}\n",
    "data = data.append(df2, ignore_index=True)\n",
    "display(data.tail())"
   ]
  },
  {
   "cell_type": "code",
   "execution_count": null,
   "metadata": {},
   "outputs": [],
   "source": []
  }
 ],
 "metadata": {
  "kernelspec": {
   "display_name": "Python 3",
   "language": "python",
   "name": "python3"
  },
  "language_info": {
   "codemirror_mode": {
    "name": "ipython",
    "version": 3
   },
   "file_extension": ".py",
   "mimetype": "text/x-python",
   "name": "python",
   "nbconvert_exporter": "python",
   "pygments_lexer": "ipython3",
   "version": "3.6.5"
  }
 },
 "nbformat": 4,
 "nbformat_minor": 2
}
