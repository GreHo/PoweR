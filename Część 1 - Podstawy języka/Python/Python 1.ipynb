{
 "cells": [
  {
   "cell_type": "code",
   "execution_count": 23,
   "metadata": {},
   "outputs": [
    {
     "name": "stdout",
     "output_type": "stream",
     "text": [
      "Hi!\n"
     ]
    }
   ],
   "source": [
    "print(\"Hi!\")"
   ]
  },
  {
   "cell_type": "markdown",
   "metadata": {},
   "source": [
    "## Interpretowane vs Kompilowane"
   ]
  },
  {
   "cell_type": "markdown",
   "metadata": {},
   "source": [
    "## Python jest interpretowany"
   ]
  },
  {
   "cell_type": "markdown",
   "metadata": {},
   "source": [
    "### How it works?"
   ]
  },
  {
   "cell_type": "markdown",
   "metadata": {},
   "source": [
    " ![interpretowany](https://cdn.tproger.ru/wp-content/uploads/2016/12/concepts2mini.png)"
   ]
  },
  {
   "cell_type": "markdown",
   "metadata": {},
   "source": [
    "# Typy Danych"
   ]
  },
  {
   "cell_type": "code",
   "execution_count": 24,
   "metadata": {},
   "outputs": [
    {
     "name": "stdout",
     "output_type": "stream",
     "text": [
      "21\n",
      "<class 'int'>\n",
      "==========================================================================\n",
      "0.3\n",
      "<class 'float'>\n"
     ]
    }
   ],
   "source": [
    "x = 21 # integer\n",
    "print(x)\n",
    "print(type(x))\n",
    "print(\"==========================================================================\")\n",
    "\n",
    "y = 0.3\n",
    "print(y)\n",
    "print(type(y))"
   ]
  },
  {
   "cell_type": "markdown",
   "metadata": {},
   "source": [
    "## Python jest dynamiczne typowany"
   ]
  },
  {
   "cell_type": "markdown",
   "metadata": {},
   "source": [
    "Wartości oznaczone typami"
   ]
  },
  {
   "cell_type": "code",
   "execution_count": 25,
   "metadata": {},
   "outputs": [
    {
     "name": "stdout",
     "output_type": "stream",
     "text": [
      "DataScience\n",
      "==========================================================================\n",
      "12\n"
     ]
    }
   ],
   "source": [
    "def fun(x, y):\n",
    "    return x + y\n",
    "\n",
    "x = \"Data\"\n",
    "y = \"Science\"\n",
    "print(fun(x, y))\n",
    "\n",
    "print(\"==========================================================================\")\n",
    "\n",
    "x = 5\n",
    "y = 7\n",
    "print(fun(x, y))"
   ]
  },
  {
   "cell_type": "markdown",
   "metadata": {},
   "source": [
    "## Typowanie jest silne"
   ]
  },
  {
   "cell_type": "markdown",
   "metadata": {},
   "source": [
    "Język nie może niejawnie konwertować wartości różnych typów"
   ]
  },
  {
   "cell_type": "markdown",
   "metadata": {},
   "source": [
    "**C++**\n",
    "*<br>\n",
    "int a = 2;\n",
    "<br>\n",
    "char b = 'L'; //76 w kodzie Ascii\n",
    "<br>\n",
    "int c = a + b;*"
   ]
  },
  {
   "cell_type": "markdown",
   "metadata": {},
   "source": [
    "**Python**"
   ]
  },
  {
   "cell_type": "code",
   "execution_count": 26,
   "metadata": {},
   "outputs": [
    {
     "ename": "TypeError",
     "evalue": "unsupported operand type(s) for +: 'int' and 'str'",
     "output_type": "error",
     "traceback": [
      "\u001b[1;31m---------------------------------------------------------------------------\u001b[0m",
      "\u001b[1;31mTypeError\u001b[0m                                 Traceback (most recent call last)",
      "\u001b[1;32m<ipython-input-26-8f818a42896f>\u001b[0m in \u001b[0;36m<module>\u001b[1;34m\u001b[0m\n\u001b[0;32m      1\u001b[0m \u001b[0ma\u001b[0m \u001b[1;33m=\u001b[0m \u001b[1;36m2\u001b[0m\u001b[1;33m\u001b[0m\u001b[1;33m\u001b[0m\u001b[0m\n\u001b[0;32m      2\u001b[0m \u001b[0mb\u001b[0m \u001b[1;33m=\u001b[0m \u001b[1;34m'L'\u001b[0m\u001b[1;33m\u001b[0m\u001b[1;33m\u001b[0m\u001b[0m\n\u001b[1;32m----> 3\u001b[1;33m \u001b[0mc\u001b[0m \u001b[1;33m=\u001b[0m \u001b[0ma\u001b[0m \u001b[1;33m+\u001b[0m \u001b[0mb\u001b[0m\u001b[1;33m\u001b[0m\u001b[1;33m\u001b[0m\u001b[0m\n\u001b[0m",
      "\u001b[1;31mTypeError\u001b[0m: unsupported operand type(s) for +: 'int' and 'str'"
     ]
    }
   ],
   "source": [
    "a = 2\n",
    "b = 'L'\n",
    "c = a + b\n"
   ]
  },
  {
   "cell_type": "markdown",
   "metadata": {},
   "source": [
    "## Mutable vs immutable\n",
    "Wartości niektórych obiektów mogą ulec zmianie. Obiekty, których wartość może ulec zmianie, są nazywane mutable; obiekty, których wartość jest niezmienna po ich utworzeniu, nazywane są immutable."
   ]
  },
  {
   "cell_type": "markdown",
   "metadata": {},
   "source": [
    "## bool - typ logiczny bool to dwie stałe: True i False\n"
   ]
  },
  {
   "cell_type": "code",
   "execution_count": 27,
   "metadata": {},
   "outputs": [
    {
     "name": "stdout",
     "output_type": "stream",
     "text": [
      "True\n",
      "<class 'bool'>\n",
      "==========================================================================\n",
      "False\n",
      "<class 'bool'>\n"
     ]
    }
   ],
   "source": [
    "\n",
    "a = True\n",
    "print(a)\n",
    "print(type(a))\n",
    "print(\"==========================================================================\")\n",
    "b = False\n",
    "print(b)\n",
    "print(type(a))\n"
   ]
  },
  {
   "cell_type": "markdown",
   "metadata": {},
   "source": [
    "### Ciekawostki"
   ]
  },
  {
   "cell_type": "markdown",
   "metadata": {},
   "source": [
    "* bool jest podtypem liczby całkowitej (int)\n",
    "<br>\n",
    "* Funkcja *isinstance()*  została zaprojektowana specjalnie w celu sprawdzenia, czy dane należą do określonej klasy (typu danych)\n",
    "<br>\n",
    "* Funkcja *issubclass()* wskazuje, czy określona klasa jest podklasą określonych klas."
   ]
  },
  {
   "cell_type": "code",
   "execution_count": 28,
   "metadata": {},
   "outputs": [
    {
     "name": "stdout",
     "output_type": "stream",
     "text": [
      "True\n",
      "True\n",
      "True\n"
     ]
    }
   ],
   "source": [
    "print(isinstance(True, int))\n",
    "print(isinstance(False, int))\n",
    "print(issubclass(bool, int))\n"
   ]
  },
  {
   "cell_type": "markdown",
   "metadata": {},
   "source": [
    "* True - 1\n",
    "False - 0 "
   ]
  },
  {
   "cell_type": "code",
   "execution_count": 29,
   "metadata": {},
   "outputs": [
    {
     "name": "stdout",
     "output_type": "stream",
     "text": [
      "2\n",
      "1\n"
     ]
    }
   ],
   "source": [
    "x = True\n",
    "y = 1\n",
    "z = False\n",
    "print(x + y)\n",
    "print(y + z)"
   ]
  },
  {
   "cell_type": "markdown",
   "metadata": {},
   "source": [
    "## int - liczby całkowite 0,1,2,3 ..."
   ]
  },
  {
   "cell_type": "markdown",
   "metadata": {},
   "source": [
    "*immutable*\n",
    "<br>\n",
    "<br>\n",
    "W Pythonie wartość liczby całkowitej nie jest ograniczona liczbą bitów i może wzrosnąć do limitu dostępnej pamięci"
   ]
  },
  {
   "cell_type": "markdown",
   "metadata": {},
   "source": [
    "W porównaniu do C++ int ma wartości od -2147483648 do 2147483647 - 4 bajty"
   ]
  },
  {
   "cell_type": "code",
   "execution_count": 30,
   "metadata": {},
   "outputs": [
    {
     "name": "stdout",
     "output_type": "stream",
     "text": [
      "<class 'int'> 78\n",
      "<class 'int'> -5\n",
      "<class 'int'> 100000000000000000000000000000000000000000000000000000000000000000000000000000000000000000000000000000000000000000000000000000000000000000000000000000000000000000000000000000000000000000000000000000000\n"
     ]
    }
   ],
   "source": [
    "x = 78\n",
    "y = -5\n",
    "z = 100 ** 100\n",
    "print(type(x), x)\n",
    "print(type(y), y)\n",
    "print(type(z), z)"
   ]
  },
  {
   "cell_type": "markdown",
   "metadata": {},
   "source": [
    "### Ciekawostki"
   ]
  },
  {
   "cell_type": "markdown",
   "metadata": {},
   "source": [
    "Można zapisać też w ósemkowym, szesnastkowym i binarnym systemie liczbowym"
   ]
  },
  {
   "cell_type": "code",
   "execution_count": 31,
   "metadata": {},
   "outputs": [
    {
     "name": "stdout",
     "output_type": "stream",
     "text": [
      "<class 'int'> 1\n",
      "<class 'int'> 1\n",
      "<class 'int'> 1\n"
     ]
    }
   ],
   "source": [
    "x = 0x1  # szesnastkowy\n",
    "y = 0o1  # ósemkowy\n",
    "z = 0b1  # binarny\n",
    "\n",
    "\n",
    "print(type(x), x)\n",
    "print(type(y), y)\n",
    "print(type(z), z)\n",
    "\n"
   ]
  },
  {
   "cell_type": "markdown",
   "metadata": {},
   "source": [
    "## float - liczby zmiennoprzecinkowe 0.2, 0.0003, 0.78"
   ]
  },
  {
   "cell_type": "markdown",
   "metadata": {},
   "source": [
    "*immutable*\n",
    "<br>\n",
    "Problemy z zaokrągleniami jak we wszystkich językach\n"
   ]
  },
  {
   "cell_type": "code",
   "execution_count": 32,
   "metadata": {},
   "outputs": [
    {
     "name": "stdout",
     "output_type": "stream",
     "text": [
      "<class 'float'> 0.5\n",
      "<class 'float'> -0.5\n"
     ]
    }
   ],
   "source": [
    "x = 0.5\n",
    "y = -0.5\n",
    "\n",
    "print(type(x), x)\n",
    "print(type(y), y)"
   ]
  },
  {
   "cell_type": "code",
   "execution_count": 33,
   "metadata": {},
   "outputs": [
    {
     "name": "stdout",
     "output_type": "stream",
     "text": [
      "True\n",
      "0.20000000000000001110\n",
      "0.20000000000000001110\n",
      "False\n",
      "0.30000000000000004441\n",
      "0.29999999999999998890\n"
     ]
    }
   ],
   "source": [
    "x = 0.1 + 0.1\n",
    "y = 0.1 + 0.1 + 0.1\n",
    "z = 0.3\n",
    "s = 0.2\n",
    "print(x == s)\n",
    "print(\"{:.20f}\".format(x) )\n",
    "print(\"{:.20f}\".format(s))\n",
    "print(y == z)\n",
    "print(\"{:.20f}\".format(y))\n",
    "print(\"{:.20f}\".format(z))\n"
   ]
  },
  {
   "cell_type": "markdown",
   "metadata": {},
   "source": [
    "## string -  ciąg znaków "
   ]
  },
  {
   "cell_type": "markdown",
   "metadata": {},
   "source": [
    "*immutable*\n"
   ]
  },
  {
   "cell_type": "code",
   "execution_count": 34,
   "metadata": {},
   "outputs": [
    {
     "name": "stdout",
     "output_type": "stream",
     "text": [
      "<class 'str'> A wewnątrz można umieścić \"cudzysłów\"\n",
      "<class 'str'> A wewnątrz można umieścić 'apostrof'\n",
      "<class 'str'> Trzy pojedyncze \n",
      "                   apostrofy\n",
      "<class 'str'> Trzy cudzysłowy\n"
     ]
    }
   ],
   "source": [
    "    # Apostrof\n",
    "    a = 'A wewnątrz można umieścić \"cudzysłów\"'\n",
    "\n",
    "    # Cudzysłów\n",
    "    b = \"A wewnątrz można umieścić 'apostrof'\"\n",
    "\n",
    "    #Trzy pojedyncze apostrofy. Wygodne do zapisania tekstu w kilku linijkach\n",
    "    c = '''Trzy pojedyncze \n",
    "                       apostrofy'''  \n",
    "\n",
    "    # Trzy cudzysłowy. Sposób na zapisanie dokumentacji\n",
    "    d = \"\"\"Trzy cudzysłowy\"\"\"\n",
    "  \n",
    "    print(type(a), a)\n",
    "    print(type(b), b)    \n",
    "    print(type(c), c)    \n",
    "    print(type(d), d)    "
   ]
  },
  {
   "cell_type": "markdown",
   "metadata": {},
   "source": [
    "Żeby odwołać się do poszczególnych części słowa **indeksujemy**"
   ]
  },
  {
   "cell_type": "code",
   "execution_count": 35,
   "metadata": {},
   "outputs": [
    {
     "name": "stdout",
     "output_type": "stream",
     "text": [
      "<class 'str'> Laura jadła jabłko\n",
      "len(a):  18\n",
      "<class 'str'> a[0]:  L\n",
      "a[1]:  a\n",
      "a[len(a) - 1]:  o\n",
      "a[-1] = a[len(a) - 1]:  o\n",
      "a[-18] = a[0]:  L\n"
     ]
    }
   ],
   "source": [
    "a = 'Laura jadła jabłko'\n",
    "print(type(a), a)\n",
    "print('len(a): ', len(a)) #sprawdzanie długości słowa\n",
    "print(type(a[0]), 'a[0]: ', a[0]) # pierwszy element ma indeks 0\n",
    "print('a[1]: ', a[1])\n",
    "print('a[len(a) - 1]: ', a[len(a) - 1]) # ostatni element to długość - 1, ponieważ indeksujemy od 0\n",
    "print('a[-1] = a[len(a) - 1]: ', a[-1]) # indeksy ujemne liczą od ostatniego znaku\n",
    "print('a[-18] = a[0]: ', a[-18])"
   ]
  },
  {
   "cell_type": "markdown",
   "metadata": {},
   "source": [
    "**Immutable!**"
   ]
  },
  {
   "cell_type": "code",
   "execution_count": 36,
   "metadata": {},
   "outputs": [
    {
     "name": "stdout",
     "output_type": "stream",
     "text": [
      "2368675581744 Laura jadła jabłko\n",
      "2368675581744 Laura jadła jabłko\n",
      "2368675762560 Laura jadła jabłko!\n",
      "2368675581744 Laura jadła jabłko\n"
     ]
    }
   ],
   "source": [
    "a = 'Laura jadła jabłko'\n",
    "b = a\n",
    "print(id(a), a)\n",
    "print(id(b), b)\n",
    "a += '!'\n",
    "print(id(a), a)\n",
    "print(id(b), b)\n"
   ]
  },
  {
   "cell_type": "markdown",
   "metadata": {},
   "source": [
    "## Kahoot time!🤯"
   ]
  },
  {
   "cell_type": "markdown",
   "metadata": {},
   "source": [
    "<br>\n",
    "<br>\n",
    "<br>\n",
    "<br>\n",
    "<br>"
   ]
  },
  {
   "cell_type": "markdown",
   "metadata": {},
   "source": [
    "<br>\n",
    "<br>\n",
    "<br>\n",
    "<br>\n",
    "<br>"
   ]
  },
  {
   "cell_type": "markdown",
   "metadata": {},
   "source": [
    "## Question time!"
   ]
  },
  {
   "cell_type": "markdown",
   "metadata": {},
   "source": [
    "1. Co znaczy, że język jest dynamicznie typowany?\n",
    "2. Co znaczy, że język jest interpretowany? Przykłady\n",
    "3. Jak sprawdzić, czy wartość należy do jakiejś klasy?\n",
    "4. Jak sprawdzić długość string?\n",
    "5. Jak napisać wiersz w Pythonie?\n",
    "\n"
   ]
  },
  {
   "cell_type": "markdown",
   "metadata": {},
   "source": [
    "## list - listy, tablice"
   ]
  },
  {
   "cell_type": "markdown",
   "metadata": {},
   "source": [
    "![listy](https://static8.depositphotos.com/1002932/796/i/450/depositphotos_7964682-stock-photo-green-leaf.jpg)"
   ]
  },
  {
   "cell_type": "markdown",
   "metadata": {},
   "source": [
    "*mutable*\n",
    "<br>\n",
    "Wszystko o listach https://docs.python.org/3/tutorial/datastructures.html"
   ]
  },
  {
   "cell_type": "code",
   "execution_count": 37,
   "metadata": {},
   "outputs": [
    {
     "name": "stdout",
     "output_type": "stream",
     "text": [
      "[]\n",
      "<class 'list'>\n",
      "len: 0\n",
      "==========================================================================\n",
      "[1, 2, 3, 5, 7]\n",
      "5\n",
      "==========================================================================\n",
      "[0, 0, 0, 0, 0, 0, 0, 0, 0, 0]\n",
      "10\n"
     ]
    }
   ],
   "source": [
    "s = [] # pusta lista\n",
    "print(s)\n",
    "print(type(s))\n",
    "print(\"len:\",len(s))\n",
    "print(\"==========================================================================\")\n",
    "l = [1, 2, 3, 5, 7] #lista int\n",
    "print(l)\n",
    "print(len(l))\n",
    "print(\"==========================================================================\")\n",
    "a = [0] * 10 #lista o danym rozmiarze\n",
    "print(a)\n",
    "print(len(a))\n"
   ]
  },
  {
   "cell_type": "code",
   "execution_count": 38,
   "metadata": {},
   "outputs": [
    {
     "name": "stdout",
     "output_type": "stream",
     "text": [
      "['l', 'i', 's', 't', 'a']\n",
      "5\n",
      "==========================================================================\n",
      "[7, '👻', 'róża', (3+2j)]\n",
      "4\n",
      "==========================================================================\n",
      "<class 'str'> 👻\n",
      "==========================================================================\n"
     ]
    }
   ],
   "source": [
    "b = list('lista')# iterowalny obiekt\n",
    "print(b)\n",
    "print(len(b))\n",
    "print(\"==========================================================================\")\n",
    "mix = [7,'👻','róża', 3 + 2j] # w listach może być wszystko\n",
    "print(mix)\n",
    "print(len(mix))\n",
    "print(\"==========================================================================\")\n",
    "print(type(mix[1]), mix[1]) # indeksujemy\n",
    "print(\"==========================================================================\")\n"
   ]
  },
  {
   "cell_type": "markdown",
   "metadata": {},
   "source": [
    "**Znowy mutable vs immutable**"
   ]
  },
  {
   "cell_type": "code",
   "execution_count": 39,
   "metadata": {},
   "outputs": [
    {
     "name": "stdout",
     "output_type": "stream",
     "text": [
      "2368677187720 [1, 2, 3]\n",
      "2368677187720 [1, 2, 3]\n",
      "2368677187720 [1, 2, 3, 'słoń']\n",
      "2368677187720 [1, 2, 3, 'słoń']\n"
     ]
    }
   ],
   "source": [
    "m = [1, 2, 3]\n",
    "n = m\n",
    "\n",
    "print(id(m), m)\n",
    "print(id(n), n)\n",
    "\n",
    "m.append(\"słoń\")\n",
    "\n",
    "print(id(m), m)\n",
    "print(id(n), n)"
   ]
  },
  {
   "cell_type": "code",
   "execution_count": 40,
   "metadata": {},
   "outputs": [
    {
     "name": "stdout",
     "output_type": "stream",
     "text": [
      "2368674893896 [1, 2, 3, 5, 7]\n",
      "2368675673672 [1, 2, 3, 5, 7]\n",
      "2368675609096 [1, 2, 3, 5, 7]\n"
     ]
    }
   ],
   "source": [
    "#Zeby zrobić kopię\n",
    "more_lists = l[:] #slices\n",
    "more_list2 = l.copy()\n",
    "\n",
    "print(id(l), l)\n",
    "print(id(more_lists), more_lists)\n",
    "print(id(more_list2), more_list2)"
   ]
  },
  {
   "cell_type": "markdown",
   "metadata": {},
   "source": [
    "## Slices"
   ]
  },
  {
   "cell_type": "markdown",
   "metadata": {},
   "source": [
    "![slices](https://cdn.instructables.com/FXZ/KIBJ/IF7IS4P0/FXZKIBJIF7IS4P0.LARGE.jpg?auto=webp&frame=1&width=320)"
   ]
  },
  {
   "cell_type": "markdown",
   "metadata": {},
   "source": [
    "The syntax of slice() is: **slice(start, stop, step)**"
   ]
  },
  {
   "cell_type": "code",
   "execution_count": 41,
   "metadata": {
    "scrolled": true
   },
   "outputs": [
    {
     "name": "stdout",
     "output_type": "stream",
     "text": [
      "<class 'slice'> slice(2, 5, 1)\n",
      "[3, 5, 7]\n",
      "[3, 5, 7]\n",
      "[1, 2, 3, 5, 7]\n"
     ]
    }
   ],
   "source": [
    "l = [1, 2, 3, 5, 7]\n",
    "sl = slice(2, 5, 1)\n",
    "\n",
    "print(type(sl), sl)\n",
    "print(l[sl])\n",
    "print(l[2:5:1]) \n",
    "print(l)\n",
    "\n"
   ]
  },
  {
   "cell_type": "code",
   "execution_count": 42,
   "metadata": {},
   "outputs": [
    {
     "name": "stdout",
     "output_type": "stream",
     "text": [
      "7\n",
      "[7]\n",
      "==========================================================================\n",
      "[7, 5, 3, 2, 1]\n",
      "[1, 3, 7]\n",
      "[1, 2, 3]\n",
      "[2, 5]\n"
     ]
    }
   ],
   "source": [
    "print(l[-1])     #ostatni element\n",
    "print(l[-1:])    #ostatni element, ale ...\n",
    "\n",
    "print(\"==========================================================================\")\n",
    "\n",
    "print(l[::-1])  # odwrotna kolejność\n",
    "print(l[::2])   # elelemty z indeksami parzystymi\n",
    "print(l[:-2])   # cała sekwencja poza ostatnimi dwoma elementami \n",
    "print(l[1::2]) # elementy z indeksami nieparzystymi\n"
   ]
  },
  {
   "cell_type": "markdown",
   "metadata": {},
   "source": [
    "## Range"
   ]
  },
  {
   "cell_type": "markdown",
   "metadata": {},
   "source": [
    "Istnieją 3 sposoby wywołania range()\n",
    "* range(stop) \n",
    "* range(start, stop) \n",
    "* range(start, stop, step) \n"
   ]
  },
  {
   "cell_type": "code",
   "execution_count": 43,
   "metadata": {},
   "outputs": [
    {
     "name": "stdout",
     "output_type": "stream",
     "text": [
      "<class 'range'> range(0, 20)\n",
      "==========================================================================\n",
      "b: [0, 1, 2, 3, 4, 5, 6, 7, 8, 9, 10, 11, 12, 13, 14, 15, 16, 17, 18, 19]\n",
      "c: [range(10, 20)]\n",
      "a: [10, 11, 12, 13, 14, 15, 16, 17, 18, 19]\n"
     ]
    }
   ],
   "source": [
    "range_ = range(20)\n",
    "print(type(range_),range_)\n",
    "print(\"==========================================================================\")\n",
    "\n",
    "b = list(range(20))\n",
    "c = [range(10, 20, 1)] \n",
    "a = list(range(10, 20, 1))\n",
    "  \n",
    "print(\"b:\", b)\n",
    "print(\"c:\", c)\n",
    "print(\"a:\", a)"
   ]
  },
  {
   "cell_type": "markdown",
   "metadata": {},
   "source": [
    "## Kahoot time! 🤯\n",
    "<br>\n",
    "<br>\n",
    "<br>\n",
    "<br>\n",
    "<br>\n",
    "<br>\n",
    "<br>"
   ]
  },
  {
   "cell_type": "markdown",
   "metadata": {},
   "source": [
    "# TASK TIME! 🧙‍"
   ]
  },
  {
   "cell_type": "markdown",
   "metadata": {},
   "source": [
    "1. Stwórz listę liczb od 0 do 500\n",
    "<br>\n",
    "\n",
    "2. Policz sumę wszystkich elementów tej listy\n",
    "<br>\n",
    "\n",
    "3. Odwróć tę listę\n",
    "<br>\n",
    "\n",
    "4. Dodaj na początek słowo PoweR\n",
    "<br>\n",
    "\n",
    "5. Stwórz listę parzystych liczb o długości 50\n",
    "<br>\n",
    "\n",
    "6. Dla stringa \"PoweR warsztaty i przygoda!\", usuń wszystkie litery z 6 znaku aż do końca, wyświetl otrzymany string\n",
    "\n",
    "    Oczekiwana wartość:\"PoweR \"\n",
    "<br>\n",
    "\n",
    "7. Mamy 2 stringa, s1 and s2, stwórz nowy string dodając s2 w środku s1\n",
    "\n",
    "    Before: \"Supplementary\"  i \"Vector\"\n",
    "    <br>\n",
    "    After: \"SupplVectorementary\"\n",
    "<br>\n",
    "<br>\n",
    "\n",
    "8. Policz liczbę wystąpień w string = \"PoweR is the best event evER\" nie patrząc na wielkość litery\n",
    "<br>\n",
    "    Oczekiwana wartość :2\n"
   ]
  },
  {
   "cell_type": "markdown",
   "metadata": {},
   "source": [
    "## Tuple - krotki"
   ]
  },
  {
   "cell_type": "markdown",
   "metadata": {},
   "source": [
    "![tuple](https://i.ytimg.com/vi/wI4vuDLWZos/hqdefault.jpg)"
   ]
  },
  {
   "cell_type": "markdown",
   "metadata": {},
   "source": [
    "*immutable*"
   ]
  },
  {
   "cell_type": "markdown",
   "metadata": {},
   "source": [
    "Tuple są jedna z najistotniejszych struktur danych w Python"
   ]
  },
  {
   "cell_type": "code",
   "execution_count": 44,
   "metadata": {},
   "outputs": [
    {
     "name": "stdout",
     "output_type": "stream",
     "text": [
      "<class 'tuple'> ()\n",
      "==========================================================================\n",
      "<class 'tuple'> (1, 2, 3, 4)\n",
      "==========================================================================\n",
      "<class 'tuple'> (1, 2, 3, 4)\n",
      "==========================================================================\n",
      "<class 'int'> 1\n",
      "==========================================================================\n",
      "<class 'tuple'> (1,)\n",
      "==========================================================================\n",
      "<class 'tuple'> ('mouse', [8, 4, 6], (1, 2, 3))\n"
     ]
    }
   ],
   "source": [
    "a = () # pusta tuple\n",
    "print(type(a), a)\n",
    "\n",
    "print(\"==========================================================================\")\n",
    "\n",
    "a = (1,2,3,4) #deklaracja\n",
    "print(type(a), a)\n",
    "\n",
    "print(\"==========================================================================\")\n",
    "\n",
    "a = 1,2,3,4 # inna deklaracja \n",
    "print(type(a), a)\n",
    "\n",
    "print(\"==========================================================================\")\n",
    "#Ważne są przecinki, a nie nawiasy\n",
    "a = (1) #int \n",
    "print(type(a), a)\n",
    "\n",
    "print(\"==========================================================================\")\n",
    "\n",
    "a = 1, #tuple z 1 elementem\n",
    "print(type(a), a)\n",
    "print(\"==========================================================================\")\n",
    "\n",
    "n_tuple = (\"mouse\", [8, 4, 6], (1, 2, 3))\n",
    "print(type(n_tuple), n_tuple)\n"
   ]
  },
  {
   "cell_type": "markdown",
   "metadata": {},
   "source": [
    "## dict -  słowniki"
   ]
  },
  {
   "cell_type": "markdown",
   "metadata": {},
   "source": [
    "![dict](https://upload.wikimedia.org/wikipedia/commons/thumb/3/30/PL_Aleksander_Br%C3%BCckner-S%C5%82ownik_etymologiczny_j%C4%99zyka_polskiego_640.jpeg/350px-PL_Aleksander_Br%C3%BCckner-S%C5%82ownik_etymologiczny_j%C4%99zyka_polskiego_640.jpeg)"
   ]
  },
  {
   "cell_type": "markdown",
   "metadata": {},
   "source": [
    "*mutable*"
   ]
  },
  {
   "cell_type": "markdown",
   "metadata": {},
   "source": [
    "* Słowniki idea: klucz - wartość\n",
    "    <br>\n",
    "    \n",
    "* Klucz tylko obiekt immutable (hashowalne)\n",
    "    <br>\n",
    "    \n",
    "* Jeden klucz może mieć tylko jedną wartość (jeżeli będzie dodane kilka par z tym samym kluczem, Python zapiszę ostatni)\n",
    "    <br>\n",
    "    \n",
    "* Jeśli chcesz zapisać kolejność, w której elementy zostały dodane do słownika, użyj collections.OrderedDict()\n"
   ]
  },
  {
   "cell_type": "code",
   "execution_count": 45,
   "metadata": {},
   "outputs": [
    {
     "name": "stdout",
     "output_type": "stream",
     "text": [
      "<class 'dict'> {}\n",
      "<class 'dict'> {}\n",
      "<class 'dict'> {'klucz': 'wartość'}\n",
      "{'new_key': 'new_value', (7, 8): [('a', 'b', 'c'), '🤖']}\n",
      "{'new_key': '👧', (7, 8): [('a', 'b', 'c'), '🤖']}\n"
     ]
    }
   ],
   "source": [
    "a = dict() # pusty słownik\n",
    "b = {} # alternatywa na deklaracje pustego słownika\n",
    "c = {'klucz': 'wartość'}\n",
    "print(type(a), a)\n",
    "print(type(b), b)\n",
    "print(type(c), c)\n",
    "\n",
    "a['new_key'] = 'new_value'  # Dodajemy nowy element do słownika\n",
    "a[(7, 8)] = [('a', 'b', 'c'),'🤖']\n",
    "print(a)\n",
    "a['new_key'] = '👧'\n",
    "print(a)"
   ]
  },
  {
   "cell_type": "code",
   "execution_count": 46,
   "metadata": {},
   "outputs": [
    {
     "ename": "KeyError",
     "evalue": "'nieklucz'",
     "output_type": "error",
     "traceback": [
      "\u001b[1;31m---------------------------------------------------------------------------\u001b[0m",
      "\u001b[1;31mKeyError\u001b[0m                                  Traceback (most recent call last)",
      "\u001b[1;32m<ipython-input-46-fbf003f5e92d>\u001b[0m in \u001b[0;36m<module>\u001b[1;34m\u001b[0m\n\u001b[1;32m----> 1\u001b[1;33m \u001b[0mprint\u001b[0m\u001b[1;33m(\u001b[0m\u001b[0mc\u001b[0m\u001b[1;33m[\u001b[0m\u001b[1;34m'nieklucz'\u001b[0m\u001b[1;33m]\u001b[0m\u001b[1;33m)\u001b[0m \u001b[1;31m# jeżeli nie ma takiego klucza będzie error, żeby tak nie było trzeba zdefiniować zachowanie __missing__(key)\u001b[0m\u001b[1;33m\u001b[0m\u001b[1;33m\u001b[0m\u001b[0m\n\u001b[0m",
      "\u001b[1;31mKeyError\u001b[0m: 'nieklucz'"
     ]
    }
   ],
   "source": [
    "print(c['nieklucz']) # jeżeli nie ma takiego klucza będzie error, żeby tak nie było trzeba zdefiniować zachowanie __missing__(key)"
   ]
  },
  {
   "cell_type": "code",
   "execution_count": 47,
   "metadata": {},
   "outputs": [
    {
     "ename": "TypeError",
     "evalue": "unhashable type: 'list'",
     "output_type": "error",
     "traceback": [
      "\u001b[1;31m---------------------------------------------------------------------------\u001b[0m",
      "\u001b[1;31mTypeError\u001b[0m                                 Traceback (most recent call last)",
      "\u001b[1;32m<ipython-input-47-675ec53300e0>\u001b[0m in \u001b[0;36m<module>\u001b[1;34m\u001b[0m\n\u001b[1;32m----> 1\u001b[1;33m \u001b[0ma\u001b[0m\u001b[1;33m[\u001b[0m\u001b[1;33m[\u001b[0m\u001b[1;36m1\u001b[0m\u001b[1;33m,\u001b[0m \u001b[1;36m2\u001b[0m\u001b[1;33m]\u001b[0m\u001b[1;33m]\u001b[0m \u001b[1;33m=\u001b[0m \u001b[1;34m'nie działa'\u001b[0m\u001b[1;33m\u001b[0m\u001b[1;33m\u001b[0m\u001b[0m\n\u001b[0m",
      "\u001b[1;31mTypeError\u001b[0m: unhashable type: 'list'"
     ]
    }
   ],
   "source": [
    "a[[1, 2]] = 'nie działa'"
   ]
  },
  {
   "cell_type": "markdown",
   "metadata": {},
   "source": [
    "## set - zbiory\n",
    "\n"
   ]
  },
  {
   "cell_type": "markdown",
   "metadata": {},
   "source": [
    "![set](https://i2.wp.com/www.sacredgeometry.blog/wp-content/uploads/2015/02/Set-man.png?resize=300%2C622)"
   ]
  },
  {
   "cell_type": "markdown",
   "metadata": {},
   "source": [
    "*mutable*"
   ]
  },
  {
   "cell_type": "markdown",
   "metadata": {},
   "source": [
    "* Zbiór w pythonie jest „kontenerem” zawierającym niepowtarzalne elementy w losowej kolejności\n",
    "* Czas sprawdzenia czy jakiś obiekt jest w zbiorze jest stały,w porównaniu do listy albo krotki, w których czas jest liniowo zależny od liczby elementów "
   ]
  },
  {
   "cell_type": "code",
   "execution_count": 48,
   "metadata": {},
   "outputs": [
    {
     "name": "stdout",
     "output_type": "stream",
     "text": [
      "<class 'set'> set()\n",
      "==========================================================================\n",
      "<class 'dict'> {}\n",
      "==========================================================================\n",
      "<class 'set'> {'c', 'd', 'b', 'a'}\n",
      "==========================================================================\n",
      "<class 'set'> {2.0, (1, 2, 3), 'Nicholas'}\n",
      "==========================================================================\n",
      "<class 'set'> {2.0, 'Katty', (1, 2, 3), 'Nicholas'}\n"
     ]
    }
   ],
   "source": [
    "a = set()\n",
    "print(type(a), a)\n",
    "print(\"==========================================================================\")\n",
    "\n",
    "a = {} # nie set , a ...\n",
    "print(type(a), a)\n",
    "print(\"==========================================================================\")\n",
    "\n",
    "a = {'a', 'b', 'c', 'd'}\n",
    "print(type(a), a)\n",
    "print(\"==========================================================================\")\n",
    "\n",
    "mixed_set = {2.0, \"Nicholas\", (1, 2, 3)} \n",
    "print(type(mixed_set), mixed_set)\n",
    "\n",
    "print(\"==========================================================================\")\n",
    "\n",
    "mixed_set.add(\"Katty\") \n",
    "print(type(mixed_set), mixed_set)"
   ]
  },
  {
   "cell_type": "code",
   "execution_count": 49,
   "metadata": {},
   "outputs": [
    {
     "ename": "TypeError",
     "evalue": "unhashable type: 'list'",
     "output_type": "error",
     "traceback": [
      "\u001b[1;31m---------------------------------------------------------------------------\u001b[0m",
      "\u001b[1;31mTypeError\u001b[0m                                 Traceback (most recent call last)",
      "\u001b[1;32m<ipython-input-49-a7eb046fd5c4>\u001b[0m in \u001b[0;36m<module>\u001b[1;34m\u001b[0m\n\u001b[1;32m----> 1\u001b[1;33m \u001b[0ma\u001b[0m \u001b[1;33m=\u001b[0m \u001b[1;33m{\u001b[0m\u001b[1;33m[\u001b[0m\u001b[1;36m1\u001b[0m\u001b[1;33m,\u001b[0m\u001b[1;36m2\u001b[0m\u001b[1;33m,\u001b[0m\u001b[1;36m3\u001b[0m\u001b[1;33m]\u001b[0m\u001b[1;33m,\u001b[0m \u001b[1;33m[\u001b[0m\u001b[1;36m1\u001b[0m\u001b[1;33m,\u001b[0m\u001b[1;36m2\u001b[0m\u001b[1;33m,\u001b[0m\u001b[1;36m3\u001b[0m\u001b[1;33m]\u001b[0m\u001b[1;33m}\u001b[0m\u001b[1;33m\u001b[0m\u001b[1;33m\u001b[0m\u001b[0m\n\u001b[0m",
      "\u001b[1;31mTypeError\u001b[0m: unhashable type: 'list'"
     ]
    }
   ],
   "source": [
    "a = {[1,2,3], [1,2,3]}\n"
   ]
  },
  {
   "cell_type": "markdown",
   "metadata": {},
   "source": [
    "## Operatory"
   ]
  },
  {
   "cell_type": "markdown",
   "metadata": {},
   "source": [
    "### Arytmetyczne\n",
    "* \\+ dodawanie\n",
    "* \\- odejmowanie\n",
    "* \\* mnożenie\n",
    "* ** potęgowanie\n",
    "* / dzielenie -> float\n",
    "* // dzielenie z zaokrągleniem do najbliższego int w dół\n",
    "* % reszta z dzielenia"
   ]
  },
  {
   "cell_type": "markdown",
   "metadata": {},
   "source": [
    "### Porównania\n",
    "* == równe co do wartości\n",
    "* != różne co do wartości\n",
    "* is zwraca true, jeśli obie zmienne są tym samym obiektem(porównuje wyniki funkcji id (adresy obiektów w pamięci))\n",
    "* is not zwraca true, jeśli obie zmienne nie są tym samym obiektem\n",
    "* < mniejsze\n",
    "* \\> większe\n",
    "* \\>= większe lub równe\n",
    "* \\<= mniejsze lub równe\n",
    "* in zwraca wartość True, jeśli w obiekcie znajduje się sekwencja o określonej wartości (np litera w stringu)\n",
    "* not in czy obiekt nie jest zawarty w innym obiekcie"
   ]
  },
  {
   "cell_type": "markdown",
   "metadata": {},
   "source": [
    "## Logiczne\n",
    "* and \tzwraca wartość True, jeśli obie instrukcje są prawdziwe\tx < 5 and  x < 10\t\n",
    "* or\tzwraca wartość True, jeśli jedno z wyrażeń jest prawdziwe\tx < 5 or x < 4\t\n",
    "* not\todwraca wynik, zwraca False, jeśli wynik jest prawdziwy(x < 5 and x < 10)"
   ]
  },
  {
   "cell_type": "markdown",
   "metadata": {},
   "source": [
    "**Trochę o operatorze in:**\n",
    "\n",
    "* W listach są przeszukiwane wszystkie elementy po kolei. Czas wyszukiwania zależy od rozmiaru listy.\n",
    "* W zbiorach wyszukiwanie nie zależy od rozmiaru zbioru - jest stałe\n",
    "* W słownikach wyszukiwane są tylko klucze, czas wyszukiwania nie zależy od liczby elementów w słowniku. Średnio O(1)"
   ]
  },
  {
   "cell_type": "markdown",
   "metadata": {},
   "source": [
    "**Do porównywania tylko ==**"
   ]
  },
  {
   "cell_type": "code",
   "execution_count": 50,
   "metadata": {},
   "outputs": [
    {
     "name": "stdout",
     "output_type": "stream",
     "text": [
      "id(x) 140730751234848\n",
      "id(y) 140730751234848\n",
      "x is y True\n",
      "x == y True\n",
      "==========================================================================\n",
      "id(x) 2370821289200\n",
      "id(y) 2370821290160\n",
      "x is y False\n",
      "x == y True\n"
     ]
    }
   ],
   "source": [
    "x = 256\n",
    "y = 256\n",
    "print('id(x)', id(x))\n",
    "print('id(y)', id(y))\n",
    "print('x is y', x is x)\n",
    "print('x == y', x == y)\n",
    "\n",
    "print(\"==========================================================================\")\n",
    "\n",
    "x = 257\n",
    "y = 257\n",
    "print('id(x)', id(x))\n",
    "print('id(y)', id(y))\n",
    "print('x is y', x is y)\n",
    "print('x == y', x == y)"
   ]
  },
  {
   "cell_type": "markdown",
   "metadata": {},
   "source": [
    "## if, elif, else\n",
    "**Wcięcia!**"
   ]
  },
  {
   "cell_type": "markdown",
   "metadata": {},
   "source": [
    "![if_](https://encrypted-tbn0.gstatic.com/images?q=tbn%3AANd9GcQEtFHtG2lF3MNbiG9LMgPgkyjzaVkWjiM_Jl6300LO3aHztr8C)"
   ]
  },
  {
   "cell_type": "code",
   "execution_count": 51,
   "metadata": {},
   "outputs": [
    {
     "name": "stdout",
     "output_type": "stream",
     "text": [
      "przed ifem\n",
      "x=10\n",
      "po ifie\n"
     ]
    }
   ],
   "source": [
    "x = 10\n",
    "print('przed ifem')\n",
    "if x == 10:\n",
    "    print('x=10')\n",
    "elif x == 4:\n",
    "    print('x=4')\n",
    "elif x == 5:\n",
    "    print('x=5')\n",
    "else:\n",
    "    print('else')\n",
    "print('po ifie')"
   ]
  },
  {
   "cell_type": "markdown",
   "metadata": {},
   "source": [
    "## for, continue, break, else"
   ]
  },
  {
   "cell_type": "code",
   "execution_count": 52,
   "metadata": {},
   "outputs": [
    {
     "name": "stdout",
     "output_type": "stream",
     "text": [
      "0\n",
      "1\n",
      "2\n",
      "3\n",
      "4\n"
     ]
    }
   ],
   "source": [
    "for number in range(5): \n",
    "    print(number)"
   ]
  },
  {
   "cell_type": "code",
   "execution_count": 53,
   "metadata": {},
   "outputs": [
    {
     "name": "stdout",
     "output_type": "stream",
     "text": [
      "7\n",
      "👻\n",
      "róża\n",
      "(3+2j)\n",
      "==========================================================================\n",
      "hheelllloo  wwoorrlldd"
     ]
    }
   ],
   "source": [
    "#możemy iterować po dowolnych iterowalnych obiektach\n",
    "mix = [7,'👻','róża', 3 + 2j] \n",
    "for el in mix: \n",
    "    print(el)\n",
    "    \n",
    "print(\"==========================================================================\")    \n",
    "\n",
    "for i in 'hello world':\n",
    "    print(i * 2, end = '')"
   ]
  },
  {
   "cell_type": "markdown",
   "metadata": {},
   "source": [
    "### continue -  ta instrukcja rozpoczyna następną obrót pętli, omijając pozostałą część "
   ]
  },
  {
   "cell_type": "code",
   "execution_count": 54,
   "metadata": {},
   "outputs": [
    {
     "name": "stdout",
     "output_type": "stream",
     "text": [
      "hheellll  wwrrlldd"
     ]
    }
   ],
   "source": [
    "for i in 'hello world':\n",
    "    if i == 'o':\n",
    "        continue\n",
    "    print(i * 2, end = '')\n"
   ]
  },
  {
   "cell_type": "markdown",
   "metadata": {},
   "source": [
    "### break - przedwcześnie przerywa"
   ]
  },
  {
   "cell_type": "code",
   "execution_count": 55,
   "metadata": {},
   "outputs": [
    {
     "name": "stdout",
     "output_type": "stream",
     "text": [
      "hh"
     ]
    }
   ],
   "source": [
    "for i in 'hello world':\n",
    "    if i == 'e':\n",
    "        break\n",
    "    print(i * 2, end = '')"
   ]
  },
  {
   "cell_type": "markdown",
   "metadata": {},
   "source": [
    "### else - wykona się, jeśli pętla zakończyła się normalnie(nie za pomocą break)"
   ]
  },
  {
   "cell_type": "code",
   "execution_count": 56,
   "metadata": {},
   "outputs": [
    {
     "name": "stdout",
     "output_type": "stream",
     "text": [
      "Nie ma takiej litery\n"
     ]
    }
   ],
   "source": [
    "for i in 'hello world':\n",
    "    if i == 'a':\n",
    "        break\n",
    "else:\n",
    "    print('Nie ma takiej litery')"
   ]
  },
  {
   "cell_type": "markdown",
   "metadata": {},
   "source": [
    "### while"
   ]
  },
  {
   "cell_type": "code",
   "execution_count": 57,
   "metadata": {},
   "outputs": [
    {
     "name": "stdout",
     "output_type": "stream",
     "text": [
      "5\n",
      "7\n",
      "9\n",
      "11\n",
      "13\n"
     ]
    }
   ],
   "source": [
    "i = 5\n",
    "while i < 15:\n",
    "    print(i)\n",
    "    i = i + 2"
   ]
  },
  {
   "cell_type": "markdown",
   "metadata": {},
   "source": [
    "## Ciekawostka\n",
    "### list comprehension"
   ]
  },
  {
   "cell_type": "code",
   "execution_count": 58,
   "metadata": {},
   "outputs": [
    {
     "name": "stdout",
     "output_type": "stream",
     "text": [
      "[0, 1, 4, 9, 16, 25, 36, 49, 64, 81]\n",
      "[0, 1, 4, 9, 16, 25, 36, 49, 64, 81]\n",
      "[0, 3, 6, 9]\n"
     ]
    }
   ],
   "source": [
    "# Możemy używać pętli jak wcześniej\n",
    "squares = []\n",
    "\n",
    "for x in range(10):\n",
    "    squares.append(x ** 2)\n",
    "\n",
    "    \n",
    "print(squares)\n",
    "\n",
    "# Albo używać list comprehension:\n",
    "squares = [x**2 for x in range(10)]\n",
    "\n",
    "print (squares)\n",
    "\n",
    "b = [x for x in range(10) if not x%3] # lista liczb podzielnych przez 3 and < 10 \n",
    "\n",
    "print(b)"
   ]
  },
  {
   "cell_type": "markdown",
   "metadata": {},
   "source": [
    "Można składać zbiory i słowniki."
   ]
  },
  {
   "cell_type": "code",
   "execution_count": 59,
   "metadata": {},
   "outputs": [
    {
     "name": "stdout",
     "output_type": "stream",
     "text": [
      "{'1': 1, '2': 2, '3': 3, '4': 4, '5': 5}\n",
      "{0, 1, 2, 3, 4, 5, 6, 7, 8, 9}\n"
     ]
    }
   ],
   "source": [
    "a = {str(i):i for i in [1,2,3,4,5]} # słownik\n",
    "print(a)\n",
    "a = {x for x in  range(10) } # set\n",
    "print(a)"
   ]
  },
  {
   "cell_type": "markdown",
   "metadata": {},
   "source": [
    "Oraz tuple - tylko uważaj!"
   ]
  },
  {
   "cell_type": "code",
   "execution_count": 60,
   "metadata": {},
   "outputs": [
    {
     "name": "stdout",
     "output_type": "stream",
     "text": [
      "<class 'generator'>\n",
      "0\n",
      "1\n",
      "<class 'tuple'>\n"
     ]
    }
   ],
   "source": [
    "a = (x for x in range(10)) # generatory\n",
    "print(type(a))\n",
    "print(next(a))\n",
    "print(next(a))\n",
    "b = tuple(x for x in range(10)) # tuple\n",
    "print(type(b))"
   ]
  },
  {
   "cell_type": "markdown",
   "metadata": {},
   "source": [
    "# TASK TIME! 🧙‍"
   ]
  },
  {
   "cell_type": "markdown",
   "metadata": {},
   "source": [
    "1. Mamy 2 listy,wypisz True jeśli pierwszy i ostatni element na liście jest taki sam\n",
    "2. Zrób listę od 1 do 100 i wypisz wszystkie liczby podzielne przez 5\n",
    "3. Wypisz taką piramidę\n",
    "<br>\n",
    "1 \n",
    "<br>\n",
    "2 2 \n",
    "<br>\n",
    "3 3 3 \n",
    "<br>\n",
    "4 4 4 4 \n",
    "<br>\n",
    "5 5 5 5 5\n",
    "<br>\n",
    "\n",
    "    *Pamiętaj o print (..., end=\" \")*\n",
    "4. Połącz dwie listy tak, że do wynikowej listy z pierwszej będą liczby nie parzyste, a z drugiej parzyste\n",
    "<br>\n",
    "list1 = [15, 22, 23, 17, 19]\n",
    "<br>\n",
    "list2 = [24, 43, 24, 36, 11]\n",
    "<br>\n",
    "Merged List is\n",
    "[15, 23, 17, 19, 24, 24, 36]\n",
    "5. Masz listę, policz wystąpienia kolejnych elementów i na podstawie tego stwórz słownik\n",
    "<br>\n",
    "list1 = [121, 43, 87, 121, 23, 43, 43, 43, 87]\n",
    "<br>\n",
    "dict1 = {121: 2, 43: 4, 87: 2, 23: 1}\n",
    "6. Unpack a tuple in variables\n",
    "7. Zamień wszystkie ostatnie wartości w tuple na 99 \n",
    "<br>\n",
    "l1 = [(10, 20, 40), (40, 50, 60), (70, 80, 90)]\n",
    "<br>\n",
    "result=[(10, 20, 99), (40, 50, 99), (70, 80, 99)]\n",
    "<br>\n",
    "8. Mamy listę mix[string, int , float ...] , stwórz nową listę która będzie miała tylko int"
   ]
  },
  {
   "cell_type": "markdown",
   "metadata": {},
   "source": [
    "## Funkcja"
   ]
  },
  {
   "cell_type": "markdown",
   "metadata": {},
   "source": [
    " W Pythonie funkcję definiuje się za pomocą słowa kluczowego **def:**"
   ]
  },
  {
   "cell_type": "code",
   "execution_count": 61,
   "metadata": {},
   "outputs": [
    {
     "name": "stdout",
     "output_type": "stream",
     "text": [
      "Hi, dear!\n"
     ]
    }
   ],
   "source": [
    "def func():\n",
    "    print(\"Hi, dear!\")\n",
    "\n",
    "func()"
   ]
  },
  {
   "cell_type": "code",
   "execution_count": 62,
   "metadata": {},
   "outputs": [
    {
     "name": "stdout",
     "output_type": "stream",
     "text": [
      "This function greets to the person passed in as parameter\n",
      "Hello, Kate. Good morning!\n"
     ]
    }
   ],
   "source": [
    "def greet(name):\n",
    "    \"\"\"This function greets to the person passed in as parameter\"\"\"\n",
    "    print(\"Hello, \" + name + \". Good morning!\")\n",
    "    \n",
    "print(greet.__doc__)\n",
    "greet(\"Kate\")"
   ]
  },
  {
   "cell_type": "markdown",
   "metadata": {},
   "source": [
    "**pozycyjne (nienazwane)**"
   ]
  },
  {
   "cell_type": "markdown",
   "metadata": {},
   "source": [
    "Argumenty podaje się po nazwie funkcji w nawiasach. Możesz dodać dowolną liczbę argumentów, po prostu oddziel je przecinkiem\n",
    "\n",
    "\n"
   ]
  },
  {
   "cell_type": "code",
   "execution_count": 63,
   "metadata": {},
   "outputs": [
    {
     "name": "stdout",
     "output_type": "stream",
     "text": [
      "Katty Ref\n",
      "Lila Ref\n",
      "Ewa Ref\n"
     ]
    }
   ],
   "source": [
    "def func(name):\n",
    "    return name + \" Ref\"\n",
    "\n",
    "a = func(\"Katty\")\n",
    "print(a)\n",
    "print(func(\"Lila\"))\n",
    "print(func(\"Ewa\"))"
   ]
  },
  {
   "cell_type": "markdown",
   "metadata": {},
   "source": [
    "**kluczowe (nazwane)**\n",
    "<br>\n",
    "Kolejność jest nieważna"
   ]
  },
  {
   "cell_type": "code",
   "execution_count": 64,
   "metadata": {},
   "outputs": [
    {
     "name": "stdout",
     "output_type": "stream",
     "text": [
      "Imie ryczerza to Linus\n"
     ]
    }
   ],
   "source": [
    "def func(person3, person2, person1):\n",
    "    print(\"Imie ryczerza to \" + person3)\n",
    "\n",
    "func(person1 = \"Emil\", person2 = \"Tobias\", person3 = \"Linus\")"
   ]
  },
  {
   "cell_type": "markdown",
   "metadata": {},
   "source": [
    "**Default**"
   ]
  },
  {
   "cell_type": "code",
   "execution_count": 65,
   "metadata": {},
   "outputs": [
    {
     "name": "stdout",
     "output_type": "stream",
     "text": [
      "101\n"
     ]
    }
   ],
   "source": [
    "def func(x = 1, y = 1):\n",
    "    outcome = x + y\n",
    "    print(outcome)\n",
    "\n",
    "func(x = 100)"
   ]
  },
  {
   "cell_type": "markdown",
   "metadata": {},
   "source": [
    "\n"
   ]
  },
  {
   "cell_type": "code",
   "execution_count": 66,
   "metadata": {},
   "outputs": [
    {
     "ename": "SyntaxError",
     "evalue": "non-default argument follows default argument (<ipython-input-66-646b1fb898d1>, line 2)",
     "output_type": "error",
     "traceback": [
      "\u001b[1;36m  File \u001b[1;32m\"<ipython-input-66-646b1fb898d1>\"\u001b[1;36m, line \u001b[1;32m2\u001b[0m\n\u001b[1;33m    def greet(msg = \"Good morning!\", name):\u001b[0m\n\u001b[1;37m             ^\u001b[0m\n\u001b[1;31mSyntaxError\u001b[0m\u001b[1;31m:\u001b[0m non-default argument follows default argument\n"
     ]
    }
   ],
   "source": [
    "#nie może być\n",
    "def greet(msg = \"Good morning!\", name):\n",
    "    pass\n"
   ]
  },
  {
   "cell_type": "code",
   "execution_count": 67,
   "metadata": {},
   "outputs": [],
   "source": [
    "#poprawna wersja\n",
    "def gree(name, msg = \"Good morming!\"):\n",
    "    pass"
   ]
  },
  {
   "cell_type": "markdown",
   "metadata": {},
   "source": [
    "**Args** - arbitrary arguments\n",
    "<br>\n",
    "Jeśli nie wiesz, ile argumentów zostanie przekazanych do funkcji, dodaj * przed nazwą parametru w definicji funkcji"
   ]
  },
  {
   "cell_type": "code",
   "execution_count": 68,
   "metadata": {},
   "outputs": [
    {
     "name": "stdout",
     "output_type": "stream",
     "text": [
      "<class 'tuple'>\n",
      "Imie ryczerza to Linus\n"
     ]
    }
   ],
   "source": [
    "def func(*args):\n",
    "    print(type(args))\n",
    "    print(\"Imie ryczerza to \" + args[2])\n",
    "\n",
    "func(\"Emil\", \"Tobias\", \"Linus\")\n"
   ]
  },
  {
   "cell_type": "markdown",
   "metadata": {},
   "source": [
    "**Kwargs** - arbitrary keyword arguments"
   ]
  },
  {
   "cell_type": "markdown",
   "metadata": {},
   "source": [
    "Jeśli nie wiesz, ile argumentów nazwanych zostanie przekazanych do funkcji, dodaj ** przed nazwą parametru w definicji funkcji"
   ]
  },
  {
   "cell_type": "code",
   "execution_count": 69,
   "metadata": {},
   "outputs": [
    {
     "name": "stdout",
     "output_type": "stream",
     "text": [
      "<class 'dict'>\n",
      "Jestem z Łódzkiego województwa\n"
     ]
    }
   ],
   "source": [
    "def func(**places):\n",
    "    print(type(places))\n",
    "    print(\"Jestem z \" + places[\"region\"] + \" województwa\")\n",
    "\n",
    "func(city = \"Warszawa\", region = \"Łódzkiego\")\n",
    "\n",
    "\n"
   ]
  },
  {
   "cell_type": "markdown",
   "metadata": {},
   "source": [
    "## Mutable vs Immutable"
   ]
  },
  {
   "cell_type": "markdown",
   "metadata": {},
   "source": [
    "### Zła wersja"
   ]
  },
  {
   "cell_type": "code",
   "execution_count": 70,
   "metadata": {},
   "outputs": [
    {
     "name": "stdout",
     "output_type": "stream",
     "text": [
      "2368675607496 print\n"
     ]
    }
   ],
   "source": [
    "def printing(lista = []):\n",
    "    lista.append('print')\n",
    "    for el in lista:\n",
    "        print(id(lista), el)\n",
    "        \n",
    "printing()\n"
   ]
  },
  {
   "cell_type": "code",
   "execution_count": 71,
   "metadata": {},
   "outputs": [
    {
     "name": "stdout",
     "output_type": "stream",
     "text": [
      "2368675602056\n",
      "2368675602056 nowe słowo\n",
      "2368675602056 print\n"
     ]
    }
   ],
   "source": [
    "l = ['nowe słowo']\n",
    "print(id(l))\n",
    "printing(l)"
   ]
  },
  {
   "cell_type": "code",
   "execution_count": 72,
   "metadata": {},
   "outputs": [
    {
     "name": "stdout",
     "output_type": "stream",
     "text": [
      "2368675607496 print\n",
      "2368675607496 print\n"
     ]
    }
   ],
   "source": [
    "printing()"
   ]
  },
  {
   "cell_type": "markdown",
   "metadata": {},
   "source": [
    "### Dobra wersja"
   ]
  },
  {
   "cell_type": "code",
   "execution_count": 73,
   "metadata": {},
   "outputs": [],
   "source": [
    "def printing(lista = None):\n",
    "    print(\"Przed if: \",id(lista))\n",
    "    lista = lista if lista else [] # druga opcja lista or []\n",
    "    print(\"Po if: \", id(lista))\n",
    "    lista.append('print')\n",
    "    for el in lista:\n",
    "        print(id(lista), el)"
   ]
  },
  {
   "cell_type": "code",
   "execution_count": 74,
   "metadata": {},
   "outputs": [
    {
     "name": "stdout",
     "output_type": "stream",
     "text": [
      "Przed if:  140730750749920\n",
      "Po if:  2368675678728\n",
      "2368675678728 print\n"
     ]
    }
   ],
   "source": [
    "printing()"
   ]
  },
  {
   "cell_type": "code",
   "execution_count": 75,
   "metadata": {},
   "outputs": [
    {
     "name": "stdout",
     "output_type": "stream",
     "text": [
      "Przed if:  140730750749920\n",
      "Po if:  2368677646024\n",
      "2368677646024 print\n"
     ]
    }
   ],
   "source": [
    "printing()"
   ]
  },
  {
   "cell_type": "code",
   "execution_count": 76,
   "metadata": {},
   "outputs": [
    {
     "name": "stdout",
     "output_type": "stream",
     "text": [
      "Przed wywołaniem funkcji:  2368677253000\n",
      "Przed if:  2368677253000\n",
      "Po if:  2368677253000\n",
      "2368677253000 nowe słowo\n",
      "2368677253000 print\n"
     ]
    }
   ],
   "source": [
    "l = ['nowe słowo']\n",
    "print(\"Przed wywołaniem funkcji: \", id(l))\n",
    "printing(l)"
   ]
  },
  {
   "cell_type": "markdown",
   "metadata": {},
   "source": [
    "# TASK TIME!🧙‍"
   ]
  },
  {
   "cell_type": "markdown",
   "metadata": {},
   "source": [
    "1. Napisz program, który znajdzie wszystkie takie liczby, które są podzielne przez 7, ale nie są wielokrotnością 5,od 2000 do 3200 (włącznie).Otrzymane liczby należy wydrukować w oddzielonej przecinkami sekwencji w jednym wierszu.\n",
    "2. Napisz funkcję, która oblicza i drukuje wartość zgodnie z podaną formułą: Q = (2 * C * D)/H\n",
    "<br>\n",
    "    C - argument nienazwany - integer\n",
    "<br>\n",
    "    D - argument nienazwany - integer\n",
    "<br>\n",
    "    H - nie wiadomo ile jest argumentów nienazwanych(jeżeli więcej niż 1 to zsumować H1+H2+H3)\n",
    "<br>\n",
    "3.Zrób funkcję, przyjmującą listę tuple, indeks(\"i\") i wartość(\"w\"). Zamień wszystkie wartości na indeksie \"i\" w tuple na wartość (\"w\")\n",
    "<br>\n",
    "l1 = [(10, 20, 40), (40, 50, 60), (70, 80, 90)]\n",
    "<br>\n",
    "change(l1,1,77) \n",
    "<br>\n",
    "result=[(10, 77, 40), (40, 77, 60), (70, 77, 90)]\n",
    "<br>"
   ]
  },
  {
   "cell_type": "markdown",
   "metadata": {},
   "source": [
    "## Pandas - mały wstęp"
   ]
  },
  {
   "cell_type": "markdown",
   "metadata": {},
   "source": [
    "Fajny artykuł: https://data36.com/pandas-tutorial-1-basics-reading-data-files-dataframes-data-selection/\n",
    "<br>\n",
    "Dwa rodzaje tabel:\n",
    "* Series:\n",
    "    Series jest to jednowymiarowa struktura danych („jednowymiarowa tablica”), która może przechowywać wartości i dla każdej wartości ma także unikalny indeks\n",
    "* DataFrame:\n",
    "    DataFrame to dwuwymiarowa (lub więcej) wymiarowa struktura danych - w zasadzie tabela z wierszami i kolumnami. Kolumny mają nazwy, a wiersze indeksy."
   ]
  },
  {
   "cell_type": "code",
   "execution_count": 77,
   "metadata": {},
   "outputs": [],
   "source": [
    "import pandas as pd "
   ]
  },
  {
   "cell_type": "code",
   "execution_count": 78,
   "metadata": {},
   "outputs": [],
   "source": [
    "data = pd.read_csv(\"movies.csv\",delimiter = ',') "
   ]
  },
  {
   "cell_type": "code",
   "execution_count": 79,
   "metadata": {},
   "outputs": [
    {
     "name": "stdout",
     "output_type": "stream",
     "text": [
      "<class 'pandas.core.frame.DataFrame'>\n"
     ]
    }
   ],
   "source": [
    "print(type(data.head()))"
   ]
  },
  {
   "cell_type": "code",
   "execution_count": 80,
   "metadata": {},
   "outputs": [
    {
     "data": {
      "text/html": [
       "<div>\n",
       "<style scoped>\n",
       "    .dataframe tbody tr th:only-of-type {\n",
       "        vertical-align: middle;\n",
       "    }\n",
       "\n",
       "    .dataframe tbody tr th {\n",
       "        vertical-align: top;\n",
       "    }\n",
       "\n",
       "    .dataframe thead th {\n",
       "        text-align: right;\n",
       "    }\n",
       "</style>\n",
       "<table border=\"1\" class=\"dataframe\">\n",
       "  <thead>\n",
       "    <tr style=\"text-align: right;\">\n",
       "      <th></th>\n",
       "      <th>show_id</th>\n",
       "      <th>type</th>\n",
       "      <th>title</th>\n",
       "      <th>director</th>\n",
       "      <th>cast</th>\n",
       "      <th>country</th>\n",
       "      <th>date_added</th>\n",
       "      <th>release_year</th>\n",
       "      <th>rating</th>\n",
       "      <th>duration</th>\n",
       "      <th>listed_in</th>\n",
       "      <th>description</th>\n",
       "    </tr>\n",
       "  </thead>\n",
       "  <tbody>\n",
       "    <tr>\n",
       "      <th>4656</th>\n",
       "      <td>80017265</td>\n",
       "      <td>Movie</td>\n",
       "      <td>Don't Go Breaking My Heart 2</td>\n",
       "      <td>Johnnie To</td>\n",
       "      <td>Louis Koo, Gao Yuanyuan, Miriam Chin Wah Yeung...</td>\n",
       "      <td>Hong Kong, China</td>\n",
       "      <td>December 1, 2018</td>\n",
       "      <td>2014.0</td>\n",
       "      <td>TV-14</td>\n",
       "      <td>113 min</td>\n",
       "      <td>Comedies, International Movies, Romantic Movies</td>\n",
       "      <td>Zixin is about to marry Qihong, but her galliv...</td>\n",
       "    </tr>\n",
       "    <tr>\n",
       "      <th>4657</th>\n",
       "      <td>81024716</td>\n",
       "      <td>Movie</td>\n",
       "      <td>Faraar</td>\n",
       "      <td>Baljit Singh Deo</td>\n",
       "      <td>Kainaat Arora, Jaggi Singh, Gippy Grewal</td>\n",
       "      <td>Australia</td>\n",
       "      <td>December 1, 2018</td>\n",
       "      <td>2015.0</td>\n",
       "      <td>TV-14</td>\n",
       "      <td>146 min</td>\n",
       "      <td>Action &amp; Adventure, Dramas, International Movies</td>\n",
       "      <td>When a man is arrested on arrival in America b...</td>\n",
       "    </tr>\n",
       "    <tr>\n",
       "      <th>4658</th>\n",
       "      <td>81028939</td>\n",
       "      <td>TV Show</td>\n",
       "      <td>Haunted House</td>\n",
       "      <td>NaN</td>\n",
       "      <td>Jo Hyun-jung, Gim Young-eun, Gim Chae-ha, I So...</td>\n",
       "      <td>NaN</td>\n",
       "      <td>December 1, 2018</td>\n",
       "      <td>2017.0</td>\n",
       "      <td>TV-Y7-FV</td>\n",
       "      <td>1 Season</td>\n",
       "      <td>Kids' TV, Korean TV Shows</td>\n",
       "      <td>With help from a 102-year-old goblin dwelling ...</td>\n",
       "    </tr>\n",
       "    <tr>\n",
       "      <th>4659</th>\n",
       "      <td>80106306</td>\n",
       "      <td>Movie</td>\n",
       "      <td>Helios</td>\n",
       "      <td>Leung Lok Man, Luk Kim-ching</td>\n",
       "      <td>Jacky Cheung, Nick Cheung, Chang Chen, Shawn Y...</td>\n",
       "      <td>Hong Kong, China, United States</td>\n",
       "      <td>December 1, 2018</td>\n",
       "      <td>2015.0</td>\n",
       "      <td>TV-MA</td>\n",
       "      <td>118 min</td>\n",
       "      <td>Action &amp; Adventure, International Movies</td>\n",
       "      <td>When master criminal Helios steals a mobile WM...</td>\n",
       "    </tr>\n",
       "    <tr>\n",
       "      <th>4660</th>\n",
       "      <td>60034549</td>\n",
       "      <td>Movie</td>\n",
       "      <td>Hellboy</td>\n",
       "      <td>Guillermo del Toro</td>\n",
       "      <td>NaN</td>\n",
       "      <td>NaN</td>\n",
       "      <td>NaN</td>\n",
       "      <td>NaN</td>\n",
       "      <td>NaN</td>\n",
       "      <td>NaN</td>\n",
       "      <td>NaN</td>\n",
       "      <td>NaN</td>\n",
       "    </tr>\n",
       "  </tbody>\n",
       "</table>\n",
       "</div>"
      ],
      "text/plain": [
       "       show_id     type                         title  \\\n",
       "4656  80017265    Movie  Don't Go Breaking My Heart 2   \n",
       "4657  81024716    Movie                        Faraar   \n",
       "4658  81028939  TV Show                 Haunted House   \n",
       "4659  80106306    Movie                        Helios   \n",
       "4660  60034549    Movie                       Hellboy   \n",
       "\n",
       "                          director  \\\n",
       "4656                    Johnnie To   \n",
       "4657              Baljit Singh Deo   \n",
       "4658                           NaN   \n",
       "4659  Leung Lok Man, Luk Kim-ching   \n",
       "4660            Guillermo del Toro   \n",
       "\n",
       "                                                   cast  \\\n",
       "4656  Louis Koo, Gao Yuanyuan, Miriam Chin Wah Yeung...   \n",
       "4657           Kainaat Arora, Jaggi Singh, Gippy Grewal   \n",
       "4658  Jo Hyun-jung, Gim Young-eun, Gim Chae-ha, I So...   \n",
       "4659  Jacky Cheung, Nick Cheung, Chang Chen, Shawn Y...   \n",
       "4660                                                NaN   \n",
       "\n",
       "                              country        date_added  release_year  \\\n",
       "4656                 Hong Kong, China  December 1, 2018        2014.0   \n",
       "4657                        Australia  December 1, 2018        2015.0   \n",
       "4658                              NaN  December 1, 2018        2017.0   \n",
       "4659  Hong Kong, China, United States  December 1, 2018        2015.0   \n",
       "4660                              NaN               NaN           NaN   \n",
       "\n",
       "        rating  duration                                         listed_in  \\\n",
       "4656     TV-14   113 min   Comedies, International Movies, Romantic Movies   \n",
       "4657     TV-14   146 min  Action & Adventure, Dramas, International Movies   \n",
       "4658  TV-Y7-FV  1 Season                         Kids' TV, Korean TV Shows   \n",
       "4659     TV-MA   118 min          Action & Adventure, International Movies   \n",
       "4660       NaN       NaN                                               NaN   \n",
       "\n",
       "                                            description  \n",
       "4656  Zixin is about to marry Qihong, but her galliv...  \n",
       "4657  When a man is arrested on arrival in America b...  \n",
       "4658  With help from a 102-year-old goblin dwelling ...  \n",
       "4659  When master criminal Helios steals a mobile WM...  \n",
       "4660                                                NaN  "
      ]
     },
     "metadata": {},
     "output_type": "display_data"
    },
    {
     "data": {
      "text/html": [
       "<div>\n",
       "<style scoped>\n",
       "    .dataframe tbody tr th:only-of-type {\n",
       "        vertical-align: middle;\n",
       "    }\n",
       "\n",
       "    .dataframe tbody tr th {\n",
       "        vertical-align: top;\n",
       "    }\n",
       "\n",
       "    .dataframe thead th {\n",
       "        text-align: right;\n",
       "    }\n",
       "</style>\n",
       "<table border=\"1\" class=\"dataframe\">\n",
       "  <thead>\n",
       "    <tr style=\"text-align: right;\">\n",
       "      <th></th>\n",
       "      <th>show_id</th>\n",
       "      <th>type</th>\n",
       "      <th>title</th>\n",
       "      <th>director</th>\n",
       "      <th>cast</th>\n",
       "      <th>country</th>\n",
       "      <th>date_added</th>\n",
       "      <th>release_year</th>\n",
       "      <th>rating</th>\n",
       "      <th>duration</th>\n",
       "      <th>listed_in</th>\n",
       "      <th>description</th>\n",
       "    </tr>\n",
       "  </thead>\n",
       "  <tbody>\n",
       "    <tr>\n",
       "      <th>0</th>\n",
       "      <td>81145628</td>\n",
       "      <td>Movie</td>\n",
       "      <td>Norm of the North: King Sized Adventure</td>\n",
       "      <td>Richard Finn, Tim Maltby</td>\n",
       "      <td>Alan Marriott, Andrew Toth, Brian Dobson, Cole...</td>\n",
       "      <td>United States, India, South Korea, China</td>\n",
       "      <td>September 9, 2019</td>\n",
       "      <td>2019.0</td>\n",
       "      <td>TV-PG</td>\n",
       "      <td>90 min</td>\n",
       "      <td>Children &amp; Family Movies, Comedies</td>\n",
       "      <td>Before planning an awesome wedding for his gra...</td>\n",
       "    </tr>\n",
       "    <tr>\n",
       "      <th>1</th>\n",
       "      <td>80117401</td>\n",
       "      <td>Movie</td>\n",
       "      <td>Jandino: Whatever it Takes</td>\n",
       "      <td>NaN</td>\n",
       "      <td>Jandino Asporaat</td>\n",
       "      <td>United Kingdom</td>\n",
       "      <td>September 9, 2016</td>\n",
       "      <td>2016.0</td>\n",
       "      <td>TV-MA</td>\n",
       "      <td>94 min</td>\n",
       "      <td>Stand-Up Comedy</td>\n",
       "      <td>Jandino Asporaat riffs on the challenges of ra...</td>\n",
       "    </tr>\n",
       "    <tr>\n",
       "      <th>2</th>\n",
       "      <td>70234439</td>\n",
       "      <td>TV Show</td>\n",
       "      <td>Transformers Prime</td>\n",
       "      <td>NaN</td>\n",
       "      <td>Peter Cullen, Sumalee Montano, Frank Welker, J...</td>\n",
       "      <td>United States</td>\n",
       "      <td>September 8, 2018</td>\n",
       "      <td>2013.0</td>\n",
       "      <td>TV-Y7-FV</td>\n",
       "      <td>1 Season</td>\n",
       "      <td>Kids' TV</td>\n",
       "      <td>With the help of three human allies, the Autob...</td>\n",
       "    </tr>\n",
       "    <tr>\n",
       "      <th>3</th>\n",
       "      <td>80058654</td>\n",
       "      <td>TV Show</td>\n",
       "      <td>Transformers: Robots in Disguise</td>\n",
       "      <td>NaN</td>\n",
       "      <td>Will Friedle, Darren Criss, Constance Zimmer, ...</td>\n",
       "      <td>United States</td>\n",
       "      <td>September 8, 2018</td>\n",
       "      <td>2016.0</td>\n",
       "      <td>TV-Y7</td>\n",
       "      <td>1 Season</td>\n",
       "      <td>Kids' TV</td>\n",
       "      <td>When a prison ship crash unleashes hundreds of...</td>\n",
       "    </tr>\n",
       "    <tr>\n",
       "      <th>4</th>\n",
       "      <td>80125979</td>\n",
       "      <td>Movie</td>\n",
       "      <td>#realityhigh</td>\n",
       "      <td>Fernando Lebrija</td>\n",
       "      <td>Nesta Cooper, Kate Walsh, John Michael Higgins...</td>\n",
       "      <td>United States</td>\n",
       "      <td>September 8, 2017</td>\n",
       "      <td>2017.0</td>\n",
       "      <td>TV-14</td>\n",
       "      <td>99 min</td>\n",
       "      <td>Comedies</td>\n",
       "      <td>When nerdy high schooler Dani finally attracts...</td>\n",
       "    </tr>\n",
       "  </tbody>\n",
       "</table>\n",
       "</div>"
      ],
      "text/plain": [
       "    show_id     type                                    title  \\\n",
       "0  81145628    Movie  Norm of the North: King Sized Adventure   \n",
       "1  80117401    Movie               Jandino: Whatever it Takes   \n",
       "2  70234439  TV Show                       Transformers Prime   \n",
       "3  80058654  TV Show         Transformers: Robots in Disguise   \n",
       "4  80125979    Movie                             #realityhigh   \n",
       "\n",
       "                   director  \\\n",
       "0  Richard Finn, Tim Maltby   \n",
       "1                       NaN   \n",
       "2                       NaN   \n",
       "3                       NaN   \n",
       "4          Fernando Lebrija   \n",
       "\n",
       "                                                cast  \\\n",
       "0  Alan Marriott, Andrew Toth, Brian Dobson, Cole...   \n",
       "1                                   Jandino Asporaat   \n",
       "2  Peter Cullen, Sumalee Montano, Frank Welker, J...   \n",
       "3  Will Friedle, Darren Criss, Constance Zimmer, ...   \n",
       "4  Nesta Cooper, Kate Walsh, John Michael Higgins...   \n",
       "\n",
       "                                    country         date_added  release_year  \\\n",
       "0  United States, India, South Korea, China  September 9, 2019        2019.0   \n",
       "1                            United Kingdom  September 9, 2016        2016.0   \n",
       "2                             United States  September 8, 2018        2013.0   \n",
       "3                             United States  September 8, 2018        2016.0   \n",
       "4                             United States  September 8, 2017        2017.0   \n",
       "\n",
       "     rating  duration                           listed_in  \\\n",
       "0     TV-PG    90 min  Children & Family Movies, Comedies   \n",
       "1     TV-MA    94 min                     Stand-Up Comedy   \n",
       "2  TV-Y7-FV  1 Season                            Kids' TV   \n",
       "3     TV-Y7  1 Season                            Kids' TV   \n",
       "4     TV-14    99 min                            Comedies   \n",
       "\n",
       "                                         description  \n",
       "0  Before planning an awesome wedding for his gra...  \n",
       "1  Jandino Asporaat riffs on the challenges of ra...  \n",
       "2  With the help of three human allies, the Autob...  \n",
       "3  When a prison ship crash unleashes hundreds of...  \n",
       "4  When nerdy high schooler Dani finally attracts...  "
      ]
     },
     "metadata": {},
     "output_type": "display_data"
    }
   ],
   "source": [
    "display(data.tail())\n",
    "display(data.head())"
   ]
  },
  {
   "cell_type": "code",
   "execution_count": 81,
   "metadata": {},
   "outputs": [
    {
     "data": {
      "text/html": [
       "<div>\n",
       "<style scoped>\n",
       "    .dataframe tbody tr th:only-of-type {\n",
       "        vertical-align: middle;\n",
       "    }\n",
       "\n",
       "    .dataframe tbody tr th {\n",
       "        vertical-align: top;\n",
       "    }\n",
       "\n",
       "    .dataframe thead th {\n",
       "        text-align: right;\n",
       "    }\n",
       "</style>\n",
       "<table border=\"1\" class=\"dataframe\">\n",
       "  <thead>\n",
       "    <tr style=\"text-align: right;\">\n",
       "      <th></th>\n",
       "      <th>show_id</th>\n",
       "      <th>type</th>\n",
       "      <th>title</th>\n",
       "      <th>director</th>\n",
       "      <th>cast</th>\n",
       "      <th>country</th>\n",
       "      <th>date_added</th>\n",
       "      <th>release_year</th>\n",
       "      <th>rating</th>\n",
       "      <th>duration</th>\n",
       "      <th>listed_in</th>\n",
       "      <th>description</th>\n",
       "    </tr>\n",
       "  </thead>\n",
       "  <tbody>\n",
       "    <tr>\n",
       "      <th>2244</th>\n",
       "      <td>80094386</td>\n",
       "      <td>TV Show</td>\n",
       "      <td>Cain and Abel</td>\n",
       "      <td>NaN</td>\n",
       "      <td>So Ji-sub, Shin Hyun-joon, Chae Jung-an, Han J...</td>\n",
       "      <td>South Korea</td>\n",
       "      <td>March 12, 2019</td>\n",
       "      <td>2009.0</td>\n",
       "      <td>TV-14</td>\n",
       "      <td>1 Season</td>\n",
       "      <td>International TV Shows, Korean TV Shows, Roman...</td>\n",
       "      <td>Gifted doctor Cho-in leads a charmed life whil...</td>\n",
       "    </tr>\n",
       "    <tr>\n",
       "      <th>1936</th>\n",
       "      <td>80242036</td>\n",
       "      <td>TV Show</td>\n",
       "      <td>Bangkok Love Stories: Hey You!</td>\n",
       "      <td>NaN</td>\n",
       "      <td>Wanida Termthanaporn, Isariya Patharamanop, No...</td>\n",
       "      <td>NaN</td>\n",
       "      <td>March 8, 2019</td>\n",
       "      <td>2018.0</td>\n",
       "      <td>TV-14</td>\n",
       "      <td>1 Season</td>\n",
       "      <td>International TV Shows, Romantic TV Shows, TV ...</td>\n",
       "      <td>A loving couple become rivals when Belle opens...</td>\n",
       "    </tr>\n",
       "    <tr>\n",
       "      <th>3834</th>\n",
       "      <td>70305955</td>\n",
       "      <td>Movie</td>\n",
       "      <td>Dolphin Tale 2</td>\n",
       "      <td>Charles Martin Smith</td>\n",
       "      <td>Morgan Freeman, Ashley Judd, Harry Connick Jr....</td>\n",
       "      <td>United States</td>\n",
       "      <td>February 25, 2019</td>\n",
       "      <td>2014.0</td>\n",
       "      <td>PG</td>\n",
       "      <td>107 min</td>\n",
       "      <td>Children &amp; Family Movies, Dramas</td>\n",
       "      <td>Winter the dolphin, who survived a tragic inju...</td>\n",
       "    </tr>\n",
       "    <tr>\n",
       "      <th>1811</th>\n",
       "      <td>70293703</td>\n",
       "      <td>Movie</td>\n",
       "      <td>Madras Café</td>\n",
       "      <td>Shoojit Sircar</td>\n",
       "      <td>John Abraham, Nargis Fakhri, Rashi Khanna, Avi...</td>\n",
       "      <td>India</td>\n",
       "      <td>May 10, 2017</td>\n",
       "      <td>2013.0</td>\n",
       "      <td>NR</td>\n",
       "      <td>128 min</td>\n",
       "      <td>Dramas, International Movies, Thrillers</td>\n",
       "      <td>An Indian intelligence agent journeys to a war...</td>\n",
       "    </tr>\n",
       "    <tr>\n",
       "      <th>2757</th>\n",
       "      <td>60023237</td>\n",
       "      <td>Movie</td>\n",
       "      <td>Y Tu Mamá También</td>\n",
       "      <td>Alfonso Cuarón</td>\n",
       "      <td>Maribel Verdú, Gael García Bernal, Diego Luna,...</td>\n",
       "      <td>Mexico</td>\n",
       "      <td>June 1, 2017</td>\n",
       "      <td>2001.0</td>\n",
       "      <td>R</td>\n",
       "      <td>106 min</td>\n",
       "      <td>Dramas, Independent Movies, International Movies</td>\n",
       "      <td>When rich teens Tenoch and Julio meet the allu...</td>\n",
       "    </tr>\n",
       "  </tbody>\n",
       "</table>\n",
       "</div>"
      ],
      "text/plain": [
       "       show_id     type                           title              director  \\\n",
       "2244  80094386  TV Show                   Cain and Abel                   NaN   \n",
       "1936  80242036  TV Show  Bangkok Love Stories: Hey You!                   NaN   \n",
       "3834  70305955    Movie                  Dolphin Tale 2  Charles Martin Smith   \n",
       "1811  70293703    Movie                     Madras Café        Shoojit Sircar   \n",
       "2757  60023237    Movie               Y Tu Mamá También        Alfonso Cuarón   \n",
       "\n",
       "                                                   cast        country  \\\n",
       "2244  So Ji-sub, Shin Hyun-joon, Chae Jung-an, Han J...    South Korea   \n",
       "1936  Wanida Termthanaporn, Isariya Patharamanop, No...            NaN   \n",
       "3834  Morgan Freeman, Ashley Judd, Harry Connick Jr....  United States   \n",
       "1811  John Abraham, Nargis Fakhri, Rashi Khanna, Avi...          India   \n",
       "2757  Maribel Verdú, Gael García Bernal, Diego Luna,...         Mexico   \n",
       "\n",
       "             date_added  release_year rating  duration  \\\n",
       "2244     March 12, 2019        2009.0  TV-14  1 Season   \n",
       "1936      March 8, 2019        2018.0  TV-14  1 Season   \n",
       "3834  February 25, 2019        2014.0     PG   107 min   \n",
       "1811       May 10, 2017        2013.0     NR   128 min   \n",
       "2757       June 1, 2017        2001.0      R   106 min   \n",
       "\n",
       "                                              listed_in  \\\n",
       "2244  International TV Shows, Korean TV Shows, Roman...   \n",
       "1936  International TV Shows, Romantic TV Shows, TV ...   \n",
       "3834                   Children & Family Movies, Dramas   \n",
       "1811            Dramas, International Movies, Thrillers   \n",
       "2757   Dramas, Independent Movies, International Movies   \n",
       "\n",
       "                                            description  \n",
       "2244  Gifted doctor Cho-in leads a charmed life whil...  \n",
       "1936  A loving couple become rivals when Belle opens...  \n",
       "3834  Winter the dolphin, who survived a tragic inju...  \n",
       "1811  An Indian intelligence agent journeys to a war...  \n",
       "2757  When rich teens Tenoch and Julio meet the allu...  "
      ]
     },
     "execution_count": 81,
     "metadata": {},
     "output_type": "execute_result"
    }
   ],
   "source": [
    "data.sample(5)"
   ]
  },
  {
   "cell_type": "code",
   "execution_count": 82,
   "metadata": {},
   "outputs": [
    {
     "data": {
      "text/html": [
       "<div>\n",
       "<style scoped>\n",
       "    .dataframe tbody tr th:only-of-type {\n",
       "        vertical-align: middle;\n",
       "    }\n",
       "\n",
       "    .dataframe tbody tr th {\n",
       "        vertical-align: top;\n",
       "    }\n",
       "\n",
       "    .dataframe thead th {\n",
       "        text-align: right;\n",
       "    }\n",
       "</style>\n",
       "<table border=\"1\" class=\"dataframe\">\n",
       "  <thead>\n",
       "    <tr style=\"text-align: right;\">\n",
       "      <th></th>\n",
       "      <th>show_id</th>\n",
       "      <th>type</th>\n",
       "      <th>title</th>\n",
       "      <th>director</th>\n",
       "      <th>cast</th>\n",
       "      <th>country</th>\n",
       "      <th>date_added</th>\n",
       "      <th>release_year</th>\n",
       "      <th>rating</th>\n",
       "      <th>duration</th>\n",
       "      <th>listed_in</th>\n",
       "      <th>description</th>\n",
       "    </tr>\n",
       "  </thead>\n",
       "  <tbody>\n",
       "    <tr>\n",
       "      <th>5</th>\n",
       "      <td>80163890</td>\n",
       "      <td>TV Show</td>\n",
       "      <td>Apaches</td>\n",
       "      <td>NaN</td>\n",
       "      <td>Alberto Ammann, Eloy Azorín, Verónica Echegui,...</td>\n",
       "      <td>Spain</td>\n",
       "      <td>September 8, 2017</td>\n",
       "      <td>2016.0</td>\n",
       "      <td>TV-MA</td>\n",
       "      <td>1 Season</td>\n",
       "      <td>Crime TV Shows, International TV Shows, Spanis...</td>\n",
       "      <td>A young journalist is forced into a life of cr...</td>\n",
       "    </tr>\n",
       "  </tbody>\n",
       "</table>\n",
       "</div>"
      ],
      "text/plain": [
       "    show_id     type    title director  \\\n",
       "5  80163890  TV Show  Apaches      NaN   \n",
       "\n",
       "                                                cast country  \\\n",
       "5  Alberto Ammann, Eloy Azorín, Verónica Echegui,...   Spain   \n",
       "\n",
       "          date_added  release_year rating  duration  \\\n",
       "5  September 8, 2017        2016.0  TV-MA  1 Season   \n",
       "\n",
       "                                           listed_in  \\\n",
       "5  Crime TV Shows, International TV Shows, Spanis...   \n",
       "\n",
       "                                         description  \n",
       "5  A young journalist is forced into a life of cr...  "
      ]
     },
     "execution_count": 82,
     "metadata": {},
     "output_type": "execute_result"
    }
   ],
   "source": [
    "data[data.title == \"Apaches\"]"
   ]
  },
  {
   "cell_type": "markdown",
   "metadata": {},
   "source": [
    "# TASK TIME!🧙‍"
   ]
  },
  {
   "cell_type": "markdown",
   "metadata": {},
   "source": [
    "1.  Sprawdź szczegółowe informacje o Data Frame\n",
    "<br>\n",
    "2. Uzyskaj pierwsze 3 wiersze danych \n",
    "<br>\n",
    "3. Wyświetl kolumny „title” i „description” \n",
    "<br>\n",
    "4. Wyświetl kolumny \"show_id\", \"country\", \"data_added\" dla wierszy 0,3,6,24\n",
    "<br>\n",
    "5. Wyświetl wiersze gdzie release_year > 2010\n",
    "<br>\n",
    "6. Wyświetl wiersze, gdzie \"director\" is NaN\n",
    "<br>\n",
    "7. Policz ile jest takich wierszy jak w punkcie 5\n",
    "<br>\n",
    "8. Sprawdź typ kolumny \"duration\"\n",
    "<br>\n",
    "   Sprawdź co to znaczy\n",
    "<br>\n",
    "9. Zmień nazwę kolumny title na name\n",
    "<br>\n",
    "10. Dodaj nowy wiersz\n",
    "<br>"
   ]
  },
  {
   "cell_type": "markdown",
   "metadata": {},
   "source": [
    "# Thanks ! :)"
   ]
  },
  {
   "cell_type": "code",
   "execution_count": null,
   "metadata": {},
   "outputs": [],
   "source": []
  }
 ],
 "metadata": {
  "kernelspec": {
   "display_name": "Python 3",
   "language": "python",
   "name": "python3"
  },
  "language_info": {
   "codemirror_mode": {
    "name": "ipython",
    "version": 3
   },
   "file_extension": ".py",
   "mimetype": "text/x-python",
   "name": "python",
   "nbconvert_exporter": "python",
   "pygments_lexer": "ipython3",
   "version": "3.7.3"
  }
 },
 "nbformat": 4,
 "nbformat_minor": 2
}
